{
 "cells": [
  {
   "cell_type": "code",
   "execution_count": 1,
   "id": "af1070f2-5224-46a4-b9f7-c5dfa2bc61f9",
   "metadata": {},
   "outputs": [],
   "source": [
    "import json\n",
    "import shutil\n",
    "import os\n",
    "import matplotlib.pyplot as plt\n",
    "\n",
    "from pyspark.sql import SparkSession\n",
    "from pyspark.sql import Row"
   ]
  },
  {
   "cell_type": "code",
   "execution_count": 2,
   "id": "e20a8a14-a82f-4892-aab2-04e682a50dfd",
   "metadata": {},
   "outputs": [
    {
     "name": "stdout",
     "output_type": "stream",
     "text": [
      "Version de Spark : 3.5.0\n"
     ]
    }
   ],
   "source": [
    "# Initialisation de la session Spark avec les packages nécessaires\n",
    "spark = SparkSession.builder \\\n",
    "    .appName(\"ProteinGraphWithRDD\") \\\n",
    "    .config(\"spark.executor.memory\", \"8g\") \\\n",
    "    .config(\"spark.driver.memory\", \"8g\") \\\n",
    "    .config(\"spark.sql.shuffle.partitions\", \"200\") \\\n",
    "    .config(\"spark.jars.packages\", \"graphframes:graphframes:0.8.2-spark3.2-s_2.12\") \\\n",
    "    .getOrCreate()\n",
    "\n",
    "# Vérification de l'environnement Spark\n",
    "print(f\"Version de Spark : {spark.version}\")"
   ]
  },
  {
   "cell_type": "code",
   "execution_count": 3,
   "id": "e3ef204f-6fb0-4e52-9489-20af46cc6b7a",
   "metadata": {},
   "outputs": [],
   "source": [
    "file_path = \"data/raw/test.tsv\" "
   ]
  },
  {
   "cell_type": "code",
   "execution_count": 4,
   "id": "47152832-7eb1-450a-b311-11a0765816ed",
   "metadata": {},
   "outputs": [],
   "source": [
    "# Chargement des données brutes en tant que RDD\n",
    "raw_rdd = spark.sparkContext.textFile(file_path)"
   ]
  },
  {
   "cell_type": "code",
   "execution_count": 5,
   "id": "784a9b8f-f0eb-4670-8a49-9c70d139f0d4",
   "metadata": {},
   "outputs": [
    {
     "name": "stdout",
     "output_type": "stream",
     "text": [
      "Header: ['Entry', 'Entry Name', 'Protein names', 'Gene Names', 'Organism', 'Sequence', 'EC number', 'InterPro']\n"
     ]
    }
   ],
   "source": [
    "# Extraction de l'en-tête\n",
    "header = raw_rdd.first()\n",
    "columns = header.split(\"\\t\")\n",
    "print(f\"Header: {columns}\")"
   ]
  },
  {
   "cell_type": "code",
   "execution_count": 6,
   "id": "ed65adb2-c06b-4305-bc70-b4c75b261b11",
   "metadata": {},
   "outputs": [],
   "source": [
    "# Suppression de l'en-tête et transformation en lignes tabulées\n",
    "data_rdd = raw_rdd.filter(lambda line: line != header) \\\n",
    "                  .map(lambda line: line.split(\"\\t\"))"
   ]
  },
  {
   "cell_type": "code",
   "execution_count": 7,
   "id": "1adfcf37-a06c-435c-8079-55f82265469f",
   "metadata": {},
   "outputs": [
    {
     "name": "stdout",
     "output_type": "stream",
     "text": [
      "Total rows: 61123\n"
     ]
    }
   ],
   "source": [
    "# ## Étape 3 : Aperçu des données\n",
    "# Affichage du nombre total de lignes\n",
    "print(f\"Total rows: {data_rdd.count()}\")"
   ]
  },
  {
   "cell_type": "code",
   "execution_count": 8,
   "id": "e0cae5b3-dd71-4461-b21c-e47446d09851",
   "metadata": {},
   "outputs": [
    {
     "name": "stdout",
     "output_type": "stream",
     "text": [
      "Preview of raw data:\n",
      "['A0A075F5C6', 'A0A075F5C6_MOUSE', 'Heat shock factor 1 (Heat shock transcription factor 1 gammabeta isoform)', 'Hsf1', 'Mus musculus (Mouse)', 'MDLAVGPGAAGPSNVPAFLTKLWTLVSDPDTDALICWSPSGNSFHVFDQGQFAKEVLPKYFKHNNMASFVRQLNMYGFRKVVHIEQGGLVKPERDDTEFQHPCFLRGQEQLLENIKRKVTSVSTLKSEDIKIRQDSVTRLLTDVQLMKGKQECMDSKLLAMKHENEALWREVASLRQKHAQQQKVVNKLIQFLISLVQSNRILGVKRKIPLMLSDSNSAHSVPKYGRQYSLEHVHGPGPYSAPSPAYSSSSLYSSDAVTSSGPIISDITELAPTSPLASPGRSIDERPLSSSTLVRVKQEPPSPPHSPRVLEASPGRPSSMDTPLSPTAFIDSILRESEPTPAASNTAPMDTTGAQAPALPTPSTPEKCLSVACLDNLARAPQMSGVARLFPCPSSFLHGRVQPGNELSDHLDAMDSNLDNLQTMLTSHGFSVDTSALLDIQELLSPQEPPRPIEAENSNPDSGKQLVHYTAQPLFLLDPDAVDTGSSELPVLFELGESSYFSEGDDYTDDPTISLLTGTEPHKAKDPTVS', '', 'IPR000232;IPR027725;IPR010542;IPR036388;IPR036390;']\n"
     ]
    }
   ],
   "source": [
    "# Affichage de quelques lignes\n",
    "print(\"Preview of raw data:\")\n",
    "for row in data_rdd.take(1):\n",
    "    print(row)"
   ]
  },
  {
   "cell_type": "code",
   "execution_count": 9,
   "id": "2fae4e15-1b34-4733-bb60-f46bfbe6dfe3",
   "metadata": {},
   "outputs": [],
   "source": [
    "# ## Étape 4 : Conversion en tuples structurés\n",
    "# Cette étape permet de structurer chaque ligne pour un accès facile aux colonnes\n",
    "def parse_row(row):\n",
    "    try:\n",
    "        return {\n",
    "            \"Entry\": row[0],\n",
    "            \"Entry Name\": row[1],\n",
    "            \"Protein names\": row[2],\n",
    "            \"Gene Names\": row[3],\n",
    "            \"Organism\": row[4],\n",
    "            \"Sequence\": row[5],\n",
    "            \"EC number\": row[6] if len(row) > 6 else None,\n",
    "            \"InterPro\": row[7].split(\";\") if len(row) > 7 and row[7] else []\n",
    "        }\n",
    "    except IndexError:\n",
    "        return None"
   ]
  },
  {
   "cell_type": "code",
   "execution_count": 10,
   "id": "ba1a60cd-6022-4b26-a21b-23a9d854e15c",
   "metadata": {},
   "outputs": [],
   "source": [
    "# Transformation des lignes en tuples\n",
    "structured_rdd = data_rdd.map(parse_row).filter(lambda x: x is not None)"
   ]
  },
  {
   "cell_type": "code",
   "execution_count": 11,
   "id": "76a1b0ef-a3e8-441f-8807-69fca2916c2b",
   "metadata": {},
   "outputs": [
    {
     "name": "stdout",
     "output_type": "stream",
     "text": [
      "Preview of structured data:\n",
      "{'Entry': 'A0A075F5C6', 'Entry Name': 'A0A075F5C6_MOUSE', 'Protein names': 'Heat shock factor 1 (Heat shock transcription factor 1 gammabeta isoform)', 'Gene Names': 'Hsf1', 'Organism': 'Mus musculus (Mouse)', 'Sequence': 'MDLAVGPGAAGPSNVPAFLTKLWTLVSDPDTDALICWSPSGNSFHVFDQGQFAKEVLPKYFKHNNMASFVRQLNMYGFRKVVHIEQGGLVKPERDDTEFQHPCFLRGQEQLLENIKRKVTSVSTLKSEDIKIRQDSVTRLLTDVQLMKGKQECMDSKLLAMKHENEALWREVASLRQKHAQQQKVVNKLIQFLISLVQSNRILGVKRKIPLMLSDSNSAHSVPKYGRQYSLEHVHGPGPYSAPSPAYSSSSLYSSDAVTSSGPIISDITELAPTSPLASPGRSIDERPLSSSTLVRVKQEPPSPPHSPRVLEASPGRPSSMDTPLSPTAFIDSILRESEPTPAASNTAPMDTTGAQAPALPTPSTPEKCLSVACLDNLARAPQMSGVARLFPCPSSFLHGRVQPGNELSDHLDAMDSNLDNLQTMLTSHGFSVDTSALLDIQELLSPQEPPRPIEAENSNPDSGKQLVHYTAQPLFLLDPDAVDTGSSELPVLFELGESSYFSEGDDYTDDPTISLLTGTEPHKAKDPTVS', 'EC number': '', 'InterPro': ['IPR000232', 'IPR027725', 'IPR010542', 'IPR036388', 'IPR036390', '']}\n"
     ]
    }
   ],
   "source": [
    "# ## Étape 5 : Vérification du schéma des données\n",
    "# Aperçu des données structurées\n",
    "print(\"Preview of structured data:\")\n",
    "for row in structured_rdd.take(1):\n",
    "    print(row)"
   ]
  },
  {
   "cell_type": "code",
   "execution_count": 12,
   "id": "b9ff4640-9e2c-4e94-b90e-371f71f3d93f",
   "metadata": {},
   "outputs": [],
   "source": [
    "# ## Étape 2 : Nettoyage et Préparation des Données\n",
    "\n",
    "# ### Suppression des lignes avec des champs critiques vides\n",
    "def clean_row(row):\n",
    "    \"\"\"\n",
    "    Nettoie une ligne des données brutes.\n",
    "    - Vérifie que les champs critiques (Sequence et InterPro) ne sont pas vides.\n",
    "    - Retourne la ligne nettoyée ou None si invalide.\n",
    "    \"\"\"\n",
    "    if not row[\"Sequence\"] or not row[\"InterPro\"]:\n",
    "        print(f\"Row removed due to missing critical fields: {row}\")\n",
    "        return None\n",
    "    return row\n",
    "\n",
    "cleaned_rdd = structured_rdd.map(clean_row).filter(lambda x: x is not None)"
   ]
  },
  {
   "cell_type": "code",
   "execution_count": 13,
   "id": "b609d076-7b4d-4368-913c-2c5a65660eaf",
   "metadata": {},
   "outputs": [
    {
     "name": "stdout",
     "output_type": "stream",
     "text": [
      "Total rows after cleaning and deduplication: 55838\n"
     ]
    }
   ],
   "source": [
    "# ### Suppression des doublons en utilisant la colonne 'Entry'\n",
    "cleaned_rdd = cleaned_rdd.map(lambda row: (row[\"Entry\"], row)) \\\n",
    "                         .reduceByKey(lambda a, b: a) \\\n",
    "                         .map(lambda x: x[1])\n",
    "\n",
    "print(\"Total rows after cleaning and deduplication:\", cleaned_rdd.count())"
   ]
  },
  {
   "cell_type": "code",
   "execution_count": 14,
   "id": "b051f985-ccd3-4c7b-9a92-a010a32ac9ba",
   "metadata": {},
   "outputs": [
    {
     "name": "stdout",
     "output_type": "stream",
     "text": [
      "Total validated rows: 53845\n"
     ]
    }
   ],
   "source": [
    "# ### Validation des données\n",
    "\n",
    "def validate_sequence(sequence):\n",
    "    \"\"\"\n",
    "    Vérifie que la séquence contient uniquement des caractères valides pour les acides aminés.\n",
    "    \"\"\"\n",
    "    valid_amino_acids = set(\"ACDEFGHIKLMNPQRSTVWY\")\n",
    "    invalid_chars = set(sequence) - valid_amino_acids\n",
    "    if invalid_chars:\n",
    "        print(f\"Invalid characters in sequence: {invalid_chars}\")\n",
    "        return False\n",
    "    return True\n",
    "\n",
    "def validate_interpro(interpro_domains):\n",
    "    \"\"\"\n",
    "    Vérifie que chaque domaine InterPro respecte le format 'IPRXXXXX'.\n",
    "    \"\"\"\n",
    "    valid_domains = [domain for domain in interpro_domains if domain.startswith(\"IPR\") and domain[3:].isdigit()]\n",
    "    if len(valid_domains) < len(interpro_domains):\n",
    "        print(f\"Some invalid domains were removed: {set(interpro_domains) - set(valid_domains)}\")\n",
    "    return valid_domains\n",
    "\n",
    "def validate_row(row):\n",
    "    \"\"\"\n",
    "    Valide une ligne pour vérifier que :\n",
    "    - La séquence contient uniquement des caractères valides.\n",
    "    - Les domaines InterPro sont bien formatés.\n",
    "    \"\"\"\n",
    "    # Validation de la séquence\n",
    "    if not validate_sequence(row[\"Sequence\"]):\n",
    "        print(f\"Row removed due to invalid sequence: {row}\")\n",
    "        return None\n",
    "\n",
    "    # Validation des domaines InterPro\n",
    "    row[\"InterPro\"] = validate_interpro(row[\"InterPro\"])\n",
    "    if not row[\"InterPro\"]:\n",
    "        print(f\"Row removed due to all invalid InterPro domains: {row}\")\n",
    "        return None\n",
    "\n",
    "    return row\n",
    "\n",
    "validated_rdd = cleaned_rdd.map(validate_row).filter(lambda x: x is not None)\n",
    "print(\"Total validated rows:\", validated_rdd.count())"
   ]
  },
  {
   "cell_type": "code",
   "execution_count": 15,
   "id": "50f6bfdc-5c1f-4b00-baee-86a2b8fef808",
   "metadata": {},
   "outputs": [
    {
     "name": "stdout",
     "output_type": "stream",
     "text": [
      "Total rows after normalization: 53845\n"
     ]
    }
   ],
   "source": [
    "# ### Normalisation des domaines InterPro\n",
    "def normalize_interpro(row):\n",
    "    \"\"\"\n",
    "    Normalise la colonne InterPro en la transformant en un ensemble unique.\n",
    "    \"\"\"\n",
    "    row[\"InterPro\"] = list(set(row[\"InterPro\"]))\n",
    "    return row\n",
    "\n",
    "normalized_rdd = validated_rdd.map(normalize_interpro)\n",
    "print(\"Total rows after normalization:\", normalized_rdd.count())"
   ]
  },
  {
   "cell_type": "code",
   "execution_count": 16,
   "id": "712438fd-4187-4a65-afbc-3f7444364eb9",
   "metadata": {},
   "outputs": [
    {
     "name": "stdout",
     "output_type": "stream",
     "text": [
      "Preview of structured data:\n",
      "{'Entry': 'A0A075F5C6', 'Entry Name': 'A0A075F5C6_MOUSE', 'Protein names': 'Heat shock factor 1 (Heat shock transcription factor 1 gammabeta isoform)', 'Gene Names': 'Hsf1', 'Organism': 'Mus musculus (Mouse)', 'Sequence': 'MDLAVGPGAAGPSNVPAFLTKLWTLVSDPDTDALICWSPSGNSFHVFDQGQFAKEVLPKYFKHNNMASFVRQLNMYGFRKVVHIEQGGLVKPERDDTEFQHPCFLRGQEQLLENIKRKVTSVSTLKSEDIKIRQDSVTRLLTDVQLMKGKQECMDSKLLAMKHENEALWREVASLRQKHAQQQKVVNKLIQFLISLVQSNRILGVKRKIPLMLSDSNSAHSVPKYGRQYSLEHVHGPGPYSAPSPAYSSSSLYSSDAVTSSGPIISDITELAPTSPLASPGRSIDERPLSSSTLVRVKQEPPSPPHSPRVLEASPGRPSSMDTPLSPTAFIDSILRESEPTPAASNTAPMDTTGAQAPALPTPSTPEKCLSVACLDNLARAPQMSGVARLFPCPSSFLHGRVQPGNELSDHLDAMDSNLDNLQTMLTSHGFSVDTSALLDIQELLSPQEPPRPIEAENSNPDSGKQLVHYTAQPLFLLDPDAVDTGSSELPVLFELGESSYFSEGDDYTDDPTISLLTGTEPHKAKDPTVS', 'EC number': '', 'InterPro': ['IPR036390', 'IPR027725', 'IPR000232', 'IPR010542', 'IPR036388']}\n"
     ]
    }
   ],
   "source": [
    "print(\"Preview of structured data:\")\n",
    "for row in normalized_rdd.take(1):\n",
    "    print(row)"
   ]
  },
  {
   "cell_type": "code",
   "execution_count": 17,
   "id": "17532a32-c0b3-4963-9a60-30d04f1a077e",
   "metadata": {},
   "outputs": [
    {
     "name": "stdout",
     "output_type": "stream",
     "text": [
      "Total rows after filtering by sequence length: 53841\n"
     ]
    }
   ],
   "source": [
    "# ### Filtrage par longueur de séquence\n",
    "def filter_sequence_length(row, min_length=1, max_length=10000):\n",
    "    \"\"\"\n",
    "    Filtre les protéines en fonction de la longueur de leur séquence.\n",
    "    \"\"\"\n",
    "    sequence_length = len(row[\"Sequence\"])\n",
    "    if min_length <= sequence_length <= max_length:\n",
    "        return row\n",
    "    print(f\"Row removed due to sequence length ({sequence_length}): {row}\")\n",
    "    return None\n",
    "\n",
    "filtered_rdd = normalized_rdd.map(lambda row: filter_sequence_length(row)).filter(lambda x: x is not None)\n",
    "print(\"Total rows after filtering by sequence length:\", filtered_rdd.count())"
   ]
  },
  {
   "cell_type": "code",
   "execution_count": 18,
   "id": "f97ae80a-79b8-4932-8ab9-dd67a5b1c9cd",
   "metadata": {},
   "outputs": [
    {
     "name": "stdout",
     "output_type": "stream",
     "text": [
      "Preview of filtering  data:\n",
      "{'Entry': 'A0A075F5C6', 'Entry Name': 'A0A075F5C6_MOUSE', 'Protein names': 'Heat shock factor 1 (Heat shock transcription factor 1 gammabeta isoform)', 'Gene Names': 'Hsf1', 'Organism': 'Mus musculus (Mouse)', 'Sequence': 'MDLAVGPGAAGPSNVPAFLTKLWTLVSDPDTDALICWSPSGNSFHVFDQGQFAKEVLPKYFKHNNMASFVRQLNMYGFRKVVHIEQGGLVKPERDDTEFQHPCFLRGQEQLLENIKRKVTSVSTLKSEDIKIRQDSVTRLLTDVQLMKGKQECMDSKLLAMKHENEALWREVASLRQKHAQQQKVVNKLIQFLISLVQSNRILGVKRKIPLMLSDSNSAHSVPKYGRQYSLEHVHGPGPYSAPSPAYSSSSLYSSDAVTSSGPIISDITELAPTSPLASPGRSIDERPLSSSTLVRVKQEPPSPPHSPRVLEASPGRPSSMDTPLSPTAFIDSILRESEPTPAASNTAPMDTTGAQAPALPTPSTPEKCLSVACLDNLARAPQMSGVARLFPCPSSFLHGRVQPGNELSDHLDAMDSNLDNLQTMLTSHGFSVDTSALLDIQELLSPQEPPRPIEAENSNPDSGKQLVHYTAQPLFLLDPDAVDTGSSELPVLFELGESSYFSEGDDYTDDPTISLLTGTEPHKAKDPTVS', 'EC number': '', 'InterPro': ['IPR036390', 'IPR027725', 'IPR000232', 'IPR010542', 'IPR036388']}\n",
      "{'Entry': 'A0A087WPF7', 'Entry Name': 'AUTS2_MOUSE', 'Protein names': 'Autism susceptibility gene 2 protein homolog', 'Gene Names': 'Auts2 Kiaa0442', 'Organism': 'Mus musculus (Mouse)', 'Sequence': 'MDGPTRGHGLRKKRRSRSQRDRERRSRAGLGTGAAGGIGAGRTRAPSLASSSGSDKEDNGKPPSSAPSRPRPPRRKRRESTSAEEDIIDGFAMTSFVTFEALEKDVAVKPQERAEKRQTPLTKKKREALTNGLSFHSKKSRLSHSHHYSSDRENDRNLCQHLGKRKKMPKGLRQLKPGQNSCRDSDSESASGESKGFQRSSSRERLSDSSAPSSLGTGYFCDSDSDQEEKASDASSEKLFNTVLVNKDPELGVGALPEHNQDAGPIVPKISGLERSQEKSQDCCKEPVFEPVVLKDPHPQLPQLPSQAQAEPQLQIPSPGPDLVPRTEAPPQFPPPSTQPAQGPPEAQLQPAPLPQVQQRPPRPQSPSHLLQQTLPPVQSHPSSQSLSQPLSAYNSSSLSLNSLSSRSSTPAKTQPAPPHISHHPSASPFPLSLPNHSPLHSFTPTLQPPAHSHHPNMFAPPTALPPPPPLTSGSLQVPGHPAGSTYSEQDILRQELNTRFLASQSADRGASLGPPPYLRTEFHQHQHQHQHTHQHTHQHTFTPFPHAIPPTAIMPTPAPPMFDKYPTKVDPFYRHSLFHSYPPAVSGIPPMIPPTGPFGSLQGAFQPKTSNPIDVAARPGTVPHTLLQKDPRLTDPFRPMLRKPGKWCAMHVHIAWQIYHHQQKVKKQMQSDPHKLDFGLKPEFLSRPPGPSLFGAIHHPHDLARPSTLFSAAGAAHPTGTPFGPPPHHSNFLNPAAHLEPFNRPSTFTGLAAVGGNAFGGLGNPSVTPNSVFGHKDSPSVQNFSNPHEPWNRLHRTPPSFPTPPPWLKPGELERSASAAAHDRDRDVDKRDSSVSKDDKERESVEKRHPSHPSPAPPVPVSALGHNRSSTDPTTRGHLNTEAREKDKPKEKERDHSGSRKDLTTEEHKAKESHLPERDGHSHEGRAAGEEPKQLSRVPSPYVRTPGVDSTRPNSTSSREAEPRKGEPAYENPKKNAEVKVKEERKEDHDLPTEAPQAHRTSEAPPPSSSASASVHPGPLASMPMTVGVTGIHAMNSIGSLDRTRMVTPFMGLSPIPGGERFPYPSFHWDPMRDPLRDPYRDLDMHRRDPLGRDFLLRNDPLHRLSTPRLYEADRSFRDREPHDYSHHHHHHHHPLAVDPRREHERGGHLDERERLHVLREDYEHPRLHPVHPASLDGHLPHPSLLTPGLPSMHYPRISPTAGHQNGLLNKTPPTAALSAPPPLISTLGGRPGSPRRTTPLSAEIRERPPSHTLKDIEAR', 'EC number': '', 'InterPro': ['IPR023246']}\n",
      "{'Entry': 'A0A087WRT4', 'Entry Name': 'A0A087WRT4_MOUSE', 'Protein names': 'FAT atypical cadherin 1', 'Gene Names': 'Fat1', 'Organism': 'Mus musculus (Mouse)', 'Sequence': 'MGRHLTLLLLLLLFLQQFGDSDGSQRLEPTPPIQFTHFQYNVTVHENSAAKTYVGHPRKMGIYILDPSWEIRYKIVSGDSENLFKAEEYVLGDFCFLRIRTKGGNTAILNREVRDHYTLIVKAVEKATDAEARAKVRVQVLDTNDLRPLFSPTSYSVSLPENTAIRTSIARVSATDADIGTNGEFYYSFKDRTDVFAIHPTSGVVVLTGRLDFLETQLYELEILAADRGMKLYGSSGVSSLAKLTVHVEQANECAPIITAVTLSPSELDKDPTYAIITVEDCDQGANGEIASLSIVAGDLLQQFKTVRSFPGSKAFKVKAVGAVDWDSHPYGYNLTLQAKDKGTPPQFSPVKVVHIISPQFRAGPVKFEMDVYRAEISEFAPPHTPVVLVKAIPSYSHLRYVFKSAPGKPKFGLNHNTGLISILEPIRRQHTSHFELEVTTSDKRASARVVVKVLGTNSNPPEFTQTSYKASIDENAPIGAAVTRVSAMDPDEGENGYVTYSIANLNHVPFVIDHFTGTVSTSENLDYELMPRVYTLRIRASDWGLPYRREVEVLATITLNNLNDNTPLFERINCEGTIPRDLGVGEQITTVSAIDADELQLVRYQIEAGNELDLFGLNPSSGVLSLKHSLTDGLGAKVSFHSLRITATDGENFATPLYINLTVAASRKPVNLQCEETGVAKMLAEKLLQANKLHSQGDVEDIFFDSYSVNTHTPQFGVTLPTGIEVKENLPVGANILFMNATDLDSGFNGKLVYAISGGNDDSCFTIDMETGVLKVLSPLDREVMDKYTLNITVYDLGIPQRAAWRLLDVTVLDANDNAPEFLQESYFVEVSEDKEVNSEIIQVEATDKDLGPSGHVTYAILTDTEKFSIDSMTGVVKIIQPLDREVQPVHYLKIEARDQATEEPRLFSTVLLKVSLDDVNDNPPRFIPPNYSVKVREDLPEGTIIMWLEAYDPDVGQSSQVRYSLLDHGEGHFDVDKLSGAVRIVQQLDFEKKQLYNLTVRAKDKGKPVSLSSTCYVEVEVVDVNENLHTPVFSSFVEKGVVKEDVPTGSSVMTVSAHDEDTGRDGEIRYSIRDGSGIGVFRIDEETGVIETSDRLDRESTSHYWLTVYATDQGVVPLSSFIEVYIEVEDVNDNAPQTSEPVYYPEIMENSPKDVSVVQIEAFDPDSSSNDKLTYRITSGNPQGFFSIHPKTGLITTTSRKLDREQQDEHILEVTVTDNGVPPRSTIARVIVKILDENDNRPQFLQKFYKIRLPEREKADGDRSASKREPLYRVIAADKDEGPNAELSYSIEEGNEHGRFSIEPKTGVVSSKKFSAAGEYDILSIKAVDNGRPQKSSTTRLHIEWISKPKPSSEPISFEESVFSFTVMESDPVAHMIGVISVEPPGMPLWFDIIGGNYDSHFDVDKGTGTIIVAKPLDAEQKSSYNLTVEATDGTTTILTQVLIKVIDTNDHRPQFSTSKYEVAVPEDTEPEVEILQISAVDRDEKNKLIYTLQSSIDPASLKKFRLDPATGALYTAEKLDHEAIHQHVLTVMVRDQDVPVKRNFARIVVNVSDKNDHAPWFTSPSYDGRVYESAAVGSVVLQVTALDKDKGRNAEVLYSIESGNIGNSFTIDPILGSIKTARELDRSHQVDYDLMVKATDKGDPPMSEMTSVRIAVTVADNASPKFTSKEYSAEISEAIRIGSFVGMVSAHSQSSVMYEIRDGNMGDAFNINPHSGSIITQRALDFETLPMYSLTVQGTNMAGLSTNTTVVVHVRDENDNPPVFTQAEYSGFISESASVNSVVLTDRNVPLVIRATDADRESNALLVYQIVEPSVHNYFAIDPTTGAIRTVLSLDYEETHAFHFTVQVHDMGTPRLFAEYAANVTVHVIDINDCPPVFSKSLYEVSLLLPTYRGVNVITVNATDADSKAFSQVMYSITEGNIGEKFSMDHKTGTIAIQNTTQLRSRYELTVRASDGRFTSMASVKINVKESRESPLKFTQDAYSAVVKENSTEARTLAVITAIGNPLNEPLFYRILNPDRRFKISHTSGVLSTTGIPFDREQQETFDVVVEVTKEHEPSAVAHVVVKVTVEDQNDNAPVFVNLPYYAVVKVDAEVGHVIRYVTAIDRDSGRNGDIHYYLKEHHDHFQIGPSGDISLKKQFEHDTLNKEYLVTVVAKDGGSPAFSAEVLVPITVMNKAMPVFEKAFYSAEIPENIQMHSPVVHIQANSPEGLKVFYSITDGDPFSQFTINFNTGVVNVIAPLDFESHPAYKLSVRATDSLTGAHAEVFVDIIVEDINDNPPVFVQPSYSTTLSEASVIGTPVLQVRATDSDSEPNRGISYQLIGNHSKSHDHFHIDSNTGLISLVRALDYEQSQQHRIFVRAVDGGMPALSSDVVVTVAVTDLNDNPPLFEQQVYEARISEHAAHGHFVMCVRACDADSSDLDKLEYSILSGNDHKSFIIDRETGIITLSNLRRHTLKPFYSLNVSVSDGVFRSSARVNVTVMGGNLHSPVFHQNEYEVELAENAPLHTLVVQVKASDRDSGIYSHVTYHIVNDFAKDRFYVNDRGQIFTLEKLDRETPAEKVISIRLMAKDAGGKVAFCTVNVILTDDNDNAPQFRSTKYEVNIGSSAAKGTSVVKVFASDADEGSNADVTYAIEADSESVKENLEINKLTGLITTKESLIGLENEFFTFFVRAVDSGSPPRESVVPVYIKILPPEVQLPRFSEPFYTYTISEDTPIGTEIDLIRVEHGGAVLYILVKGNTPESNRDEFFVIDRQNGRLKLEKSLDHETTKWYQFSILARCTLDDYEVVASIDVSIQVKDANDNSPVLESSPYEAFIVENLPGGSRVIQIRASDLDSGANGQVMYSLDQSQDADIIESFAINMETGWITTLKELDHEERASYQIKVVASDHGEKVQLSSTAIVGVTVTDVNDSPPRFTAEIYKGTVSEDDPPGGVIAILSTTDADTEEINRQVSYFITGGDALGQFAVENVQSDWRVYVKKPLDREQKDSYLLTVTATDGTFSSKARVEVKVLDANDNSPVCEKTSYSDTIPEDALPGKLVMQVSATDADIRSNAEITYTLFGSGAEKFKLNPDTGELRTLALLDREEQAVYNLLVKATDGGGRSCQAAIVLTLEDVNDNAPEFTAEPYTITVFENTEPGTPLTRVQATDADTGLNRKISYSLVESADGQFSINERSGIIQLEKHLDRELQAVYTLTLKAVDQGLPRRLTATGTVVVSVLDINDNPPVFEYREYGASVSEDIVIGTEVLQVYAASRDIEANAEITYAIISGNEHGKFSIDSKTGAIFIIESLDYESSHEYYLTVEATDGGTPSLSDVATVNINVTDINDNSPVFSQDTYTTVVSEDAALEQPVITIMADDADGPSNSHIHYSIIEGNQGSPFTIDPVRGEVKVTKPLDRETISGYTLTVQAADNGNPPRVNTTTVNIDVSDVNDNAPLFSRDNYSVIIQENKPVGFSVLKLVVTDKDSSHNGPPFFFTIVSGNDENAFEVNQHGVLLTAATIKRKVKDHYLLHVKVADSGKPQLSSMTHIDIRVIEESIHPPAILPLEIFITAFGEEYSGGVIGKIHATDQDVYDTLMYSLDPHMDGLFSVSSTGGKLIAHRKLDIGQYLLNVSVTDGKFTTVADITVHIQQVTQEMLNHTVAIRFANLTPEEFVGDYWRNFQRALRNILGVRKNDIQIVSLQPSEPHSHLDVLLFVERSGGTHVSTKQLLHKINSSVTDVEEIIGVRILEVFQKLCAGLDCPWKFCDEKVSVDENVMSTHSTARLSFVTPRHHRTAVCLCKDGTCPPVHHGCEDNPCPAGSECVADPREEKYSCVCPGGGFGKCPGSSSITFTGNSFVKYRLLENENRLEMKLSMRLRTYSSHAVVMYARGTDYSILEIHTGRLQYKFDCGSGPGIVSVQSIQVNDGQWHAVSLEVEGNYAKLVLDEVHTASGTAPGALKTLNLDNYVFFGGHLRQQGTKHGRGAQVASGFRGCMDSIYLNGQELPLNNKPRAYAHIEEWVDLSHGCLLTATEDCSSSPCQNGGVCNPSPTGGYYCKCSALYVGTFCEVSVNPCSSNPCLYGGTCMVDNGGFVCQCRGLYTGQRCQLSPYCKDDPCKNGGTCFDSLDGAVCQCDSGFRGERCQSDIDECAGNPCRNGALCENTHGSYHCNCSQEYRGKHCEDASPNHYVSTPWNIGLAEGIGIIVFIAGIVLLVMVFVLCRKMISRKKKRQAEPEDKRLGPTTAFLQRPYFDSKLNKNIYSDIPPQVPVRPISYTPSIPSDSRNNLDRNSFEGSAIPEHPEFSTFNPESMHGHRKAVAVCSVAPNLPPPPPSNSPSDSDSIQKPSWDFDYDAKVVDLDPCLSKKPLEEKPSQPYSARESLSEVQSLSSFQSESCDDNESLAAPDLSKPRGYHWDTSDWMPSVPLPDIQEFPNYEAIDEHTPLYSADPNAIDTDYYPGGYDIESDFPPPPEDFPAPDELPPLPPEFSDQFESIHPPRDMPAAGSLGSSSRSRQRFNLNQYLPNFYPADMSEPQKQGAGENSPCREPYTPYPPGYQRNFEAPTIENMPMSVYASTASCSDVSACCEVESEVMMSDYESGDDGHFEEVTIPPLDSQQHTEV', 'EC number': '', 'InterPro': ['IPR018097', 'IPR000742', 'IPR002126', 'IPR001791', 'IPR009030', 'IPR020894', 'IPR039808', 'IPR001881', 'IPR000152', 'IPR015919', 'IPR013320', 'IPR049883']}\n",
      "{'Entry': 'A0A0A6YXR0', 'Entry Name': 'A0A0A6YXR0_MOUSE', 'Protein names': 'Choline/ethanolaminephosphotransferase 1 (EC 2.7.8.1) (EC 2.7.8.2) (EC 2.7.8.22) (1-alkenyl-2-acylglycerol choline phosphotransferase)', 'Gene Names': 'Cept1', 'Organism': 'Mus musculus (Mouse)', 'Sequence': 'MSGHRSTRKRCGDSHPESPVGFGHMSTTGCVLNKLFQLPTPPLSRHQLKRLEEHRYQSAGRSLLEPLMQGYWEWLVGRVPSWIAPNLITIIGLSINICTTILLVFYCPTATEQAPLWAYIACACGLFIYQSLDAIDGKQARRTNSSSPLGELFDHGCDSLSTVQIFIIIMHLLAVIGGPPFWQSMIPVLNIQMKLLPALCTVAGTIFSCTNYFRVIFTGGVGKNGSTIAGTSVLSPFLHIGSVITLA', 'EC number': '2.7.8.1; 2.7.8.2; 2.7.8.22', 'InterPro': ['IPR048254', 'IPR043130', 'IPR000462', 'IPR014472']}\n",
      "{'Entry': 'A0A0A6YXU9', 'Entry Name': 'A0A0A6YXU9_MOUSE', 'Protein names': 'Transforming growth factor beta', 'Gene Names': 'Tgfb2', 'Organism': 'Mus musculus (Mouse)', 'Sequence': 'MHYCVLSTFLLLHLVPVALSLSTCSTLDMDQFMRKRIEAIRGQILSKLKLTSPPEDYPEPDEVPPEVISIYNSTRDLLQEKASRRAAACERERSDEEYYAKEVYKIDMPSHLPSETVCPVVTTPSGSLGSFCSRQSQVLCGYLDAIPPTFYRPYFRIVRFDVSTMEKNASNLVKAEFRVFRLQNPKARVAEQRIELYQILKSKDLTSPTQRYIDSKVVKTRAEGEWLSFDVTDAVQEWLHHKDRNLGFKISLHCPCCTFVPSNNYIIPNKSEELEARFAGIDGTSTYASGDQKTIKSTRKKTSGKTPHLLLMLLPSYRLESQQSSRRKKRALDAAYCFRNVQDNCCLRPLYIDFKRDLGWKWIHEPKGYNANFCAGACPYLWSSDTQHTKVLSLYNTINPEASASPCCVSQDLEPLTILYYIGNTPKIEQLSNMIVKSCKCS', 'EC number': '', 'InterPro': ['IPR003940', 'IPR029034', 'IPR017948', 'IPR016319', 'IPR015615', 'IPR001111', 'IPR001839']}\n",
      "{'Entry': 'A0A0B4J1G0', 'Entry Name': 'FCG3A_MOUSE', 'Protein names': 'Low affinity immunoglobulin gamma Fc region receptor III-A (IgG Fc receptor III-A) (CD16-2) (FcgammaRIV) (CD antigen CD16a)', 'Gene Names': 'Fcgr4 Fcgr3a', 'Organism': 'Mus musculus (Mouse)', 'Sequence': 'MWQLLLPTALVLTAFSGIQAGLQKAVVNLDPKWVRVLEEDSVTLRCQGTFSPEDNSIKWFHNESLIPHQDANYVIQSARVKDSGMYRCQTALSTISDPVQLEVHMGWLLLQTTKWLFQEGDPIHLRCHSWQNRPVRKVTYLQNGKGKKYFHENSELLIPKATHNDSGSYFCRGLIGHNNKSSASFRISLGDPGSPSMFPPWHQITFCLLIGLLFAIDTVLYFSVRRGLQSPVADYEEPKIQWSKEPQDK', 'EC number': '', 'InterPro': ['IPR050488', 'IPR007110', 'IPR003599', 'IPR036179', 'IPR003598', 'IPR013783']}\n"
     ]
    }
   ],
   "source": [
    "print(\"Preview of filtering  data:\")\n",
    "for row in filtered_rdd.take(6):\n",
    "    print(row)"
   ]
  },
  {
   "cell_type": "code",
   "execution_count": 19,
   "id": "d64b2cee-9dd3-4977-bfb2-116a2ea96e30",
   "metadata": {},
   "outputs": [
    {
     "name": "stdout",
     "output_type": "stream",
     "text": [
      "Total rows after classification: 53841\n"
     ]
    }
   ],
   "source": [
    "# ### Ajout d'une colonne de classification\n",
    "def classify_protein(row):\n",
    "    \"\"\"\n",
    "    Classe les protéines comme 'Known' ou 'Unknown' en fonction de la colonne EC number.\n",
    "    \"\"\"\n",
    "    row[\"Status\"] = \"Known\" if row[\"EC number\"] else \"Unknown\"\n",
    "    return row\n",
    "\n",
    "classified_rdd = filtered_rdd.map(classify_protein)\n",
    "print(\"Total rows after classification:\", classified_rdd.count())"
   ]
  },
  {
   "cell_type": "code",
   "execution_count": 20,
   "id": "dc1c4dcf-65e4-49fe-9a31-2c4955f8d81e",
   "metadata": {},
   "outputs": [
    {
     "name": "stdout",
     "output_type": "stream",
     "text": [
      "Sequence length statistics: (count: 53841, mean: 483.76129715272714, stdev: 496.9542603693239, max: 8886.0, min: 11.0)\n"
     ]
    }
   ],
   "source": [
    "# ### Statistiques supplémentaires\n",
    "# Distribution des séquences par longueur\n",
    "sequence_lengths = classified_rdd.map(lambda row: len(row[\"Sequence\"]))\n",
    "if sequence_lengths.isEmpty():\n",
    "    print(\"No sequences available for statistics.\")\n",
    "else:\n",
    "    length_stats = sequence_lengths.stats()\n",
    "    print(f\"Sequence length statistics: {length_stats}\")"
   ]
  },
  {
   "cell_type": "code",
   "execution_count": 21,
   "id": "640ab66b-a9bf-4abe-822b-23d05efefde4",
   "metadata": {},
   "outputs": [
    {
     "data": {
      "image/png": "[encoded data removed]",
      "text/plain": [
       "<Figure size 640x480 with 1 Axes>"
      ]
     },
     "metadata": {},
     "output_type": "display_data"
    }
   ],
   "source": [
    "lengths = classified_rdd.map(lambda row: len(row[\"Sequence\"])).collect()\n",
    "plt.hist(lengths, bins=50, color='blue', alpha=0.7)\n",
    "plt.title(\"Distribution des longueurs de séquences\")\n",
    "plt.xlabel(\"Longueur\")\n",
    "plt.ylabel(\"Nombre de séquences\")\n",
    "plt.show()"
   ]
  },
  {
   "cell_type": "code",
   "execution_count": 22,
   "id": "57e9a4ad-9ddd-4d05-843c-2ee93a373f25",
   "metadata": {},
   "outputs": [
    {
     "name": "stdout",
     "output_type": "stream",
     "text": [
      "Proteins per organism:\n",
      "Mus musculus (Mouse): 53841\n"
     ]
    }
   ],
   "source": [
    "# Comptage des protéines par organisme\n",
    "proteins_per_organism = classified_rdd.map(lambda row: (row[\"Organism\"], 1)) \\\n",
    "                                     .reduceByKey(lambda a, b: a + b) \\\n",
    "                                     .collect()\n",
    "if not proteins_per_organism:\n",
    "    print(\"No proteins available for organism statistics.\")\n",
    "else:\n",
    "    print(\"Proteins per organism:\")\n",
    "    for organism, count in proteins_per_organism:\n",
    "        print(f\"{organism}: {count}\")"
   ]
  },
  {
   "cell_type": "code",
   "execution_count": 23,
   "id": "d86fedeb-f2fb-45c4-9d99-0d40ebe7d9c8",
   "metadata": {},
   "outputs": [
    {
     "name": "stdout",
     "output_type": "stream",
     "text": [
      "Sample size: 2636\n",
      "data preview:\n",
      "{'Entry': 'A0A075F5C6', 'Entry Name': 'A0A075F5C6_MOUSE', 'Protein names': 'Heat shock factor 1 (Heat shock transcription factor 1 gammabeta isoform)', 'Gene Names': 'Hsf1', 'Organism': 'Mus musculus (Mouse)', 'Sequence': 'MDLAVGPGAAGPSNVPAFLTKLWTLVSDPDTDALICWSPSGNSFHVFDQGQFAKEVLPKYFKHNNMASFVRQLNMYGFRKVVHIEQGGLVKPERDDTEFQHPCFLRGQEQLLENIKRKVTSVSTLKSEDIKIRQDSVTRLLTDVQLMKGKQECMDSKLLAMKHENEALWREVASLRQKHAQQQKVVNKLIQFLISLVQSNRILGVKRKIPLMLSDSNSAHSVPKYGRQYSLEHVHGPGPYSAPSPAYSSSSLYSSDAVTSSGPIISDITELAPTSPLASPGRSIDERPLSSSTLVRVKQEPPSPPHSPRVLEASPGRPSSMDTPLSPTAFIDSILRESEPTPAASNTAPMDTTGAQAPALPTPSTPEKCLSVACLDNLARAPQMSGVARLFPCPSSFLHGRVQPGNELSDHLDAMDSNLDNLQTMLTSHGFSVDTSALLDIQELLSPQEPPRPIEAENSNPDSGKQLVHYTAQPLFLLDPDAVDTGSSELPVLFELGESSYFSEGDDYTDDPTISLLTGTEPHKAKDPTVS', 'EC number': '', 'InterPro': ['IPR036390', 'IPR027725', 'IPR000232', 'IPR010542', 'IPR036388'], 'Status': 'Unknown'}\n",
      "{'Entry': 'A0A0A6YXR0', 'Entry Name': 'A0A0A6YXR0_MOUSE', 'Protein names': 'Choline/ethanolaminephosphotransferase 1 (EC 2.7.8.1) (EC 2.7.8.2) (EC 2.7.8.22) (1-alkenyl-2-acylglycerol choline phosphotransferase)', 'Gene Names': 'Cept1', 'Organism': 'Mus musculus (Mouse)', 'Sequence': 'MSGHRSTRKRCGDSHPESPVGFGHMSTTGCVLNKLFQLPTPPLSRHQLKRLEEHRYQSAGRSLLEPLMQGYWEWLVGRVPSWIAPNLITIIGLSINICTTILLVFYCPTATEQAPLWAYIACACGLFIYQSLDAIDGKQARRTNSSSPLGELFDHGCDSLSTVQIFIIIMHLLAVIGGPPFWQSMIPVLNIQMKLLPALCTVAGTIFSCTNYFRVIFTGGVGKNGSTIAGTSVLSPFLHIGSVITLA', 'EC number': '2.7.8.1; 2.7.8.2; 2.7.8.22', 'InterPro': ['IPR048254', 'IPR043130', 'IPR000462', 'IPR014472'], 'Status': 'Known'}\n",
      "{'Entry': 'A0A0R4J049', 'Entry Name': 'A0A0R4J049_MOUSE', 'Protein names': 'Protein arginine N-methyltransferase 5 (EC 2.1.1.320)', 'Gene Names': 'Prmt5', 'Organism': 'Mus musculus (Mouse)', 'Sequence': 'MAAMAVGGAGGSRVSSGRDLNCVPEIADTLGAVAKQGFDFLCMPVFHPRFKREFIQEPAKNRPGPQTRSDLLLSGRDWNTLIVGKLSPWIHPDSKVEKIRRNSEAAMLQELNFGAYLGLPAFLLPLNQEDNTNLARVLTNHIHTGHHSSMFWMRVPLVAPEDLRDDVIENAPTTHTEEYSGEEKTWMWWHNFRTLCDYSKRIAVALEIGADLPSNHVIDRWLGEPIKAAILPTSIFLTNKKGFPVLSKVQQRLIFRLLKLEVQFIITGTNHHSEKEFCSYLQYLEYLSQNRPPPNAYELFAKGYEDYLQSPLQPLMDNLESQTYEVFEKDPIKYSQYQQAIYKCLLDRVPEEEKETNVQVLMVLGAGRGPLVNASLRAAKQAERRIRLYAVEKNPNAVVTLENWQFEEWGSQVTVVSSDMREWVAPEKADIIVSELLGSFADNELSPECLDGAQHFLKDDGVSIPGEYTSFLAPISSSKLYNEVRACREKDRDPEAQFEMPYVVRLHNFHQLSAPKPCFTFSHPNRDPMIDNNRYCTLEFPVEVNTVLHGFAGYFETVLYRDITLSIRPETHSPGMFSWFPIFFPIKQPITVHEGQNICVRFWRCSNSKKVWYEWAVTAPVCSSIHNPTGRSYTIGL', 'EC number': '2.1.1.320', 'InterPro': ['IPR035075', 'IPR029063', 'IPR025799', 'IPR035248', 'IPR007857', 'IPR035247'], 'Status': 'Known'}\n",
      "{'Entry': 'A0A494B9X3', 'Entry Name': 'A0A494B9X3_MOUSE', 'Protein names': \"Cytosolic purine 5'-nucleotidase (EC 2.7.1.77) (EC 3.1.3.5) (EC 3.1.3.99) (Cytosolic nucleoside phosphotransferase 5'N)\", 'Gene Names': 'Nt5c2', 'Organism': 'Mus musculus (Mouse)', 'Sequence': 'MQLRFRAIRCCLLTSKSTRIHPTNKMTTSWSDRLQNAADVPANMDKHALKKYRREAYHRVFVNRSLAMEKIKCFGFDMDYTLAVYKSPEYESLGFELTVERLVSIGYPQELLSFAYDSTFPTRGLVFDTLYGNLLKVDAYGNLLVCAHGFNFIRGPETREQYPNKFIQRDDTERFYILNTLFNLPETYLLACLVDFFTNCPRYTSCDTGFKDGDLFMSYRSMFQDVRDAVDWVHYKGSLKEKTVENLEKYVVKDGKLPLLLSRMKEVGKVFLATNSDYKYTDKIMTYLFDFPHGPKPGSSHRPWQSYFDLILVDARKPLFFGEGTVLRQVDTKTGKLKIGTYTGPLQHGIVYSGGSSDTICDLLGAKGKDILYIGDHIFGDILKSKKRQGWRTFLVIPELAQELHVWTDKSSLFEELQSLDIFLAELYKHLDSSSNERPDISSIQRRIKKVTHDMDMCYGMMGSLFRSGSRQTLFASQVMRYADLYAASFINLLYYPFSYLFRAAHVLMPHESTVEHTHVDINEMESPLATRNRTSVDFKDTDYKRHQLTRSISEIKPPNLFPLAPQEITHCHDEDDDEEEEEEE', 'EC number': '2.7.1.77; 3.1.3.5; 3.1.3.99', 'InterPro': ['IPR016695', 'IPR036412', 'IPR008380', 'IPR023214'], 'Status': 'Known'}\n",
      "{'Entry': 'A2A974', 'Entry Name': 'CP4CB_MOUSE', 'Protein names': 'Cytochrome P450 4A12B (EC 1.14.14.1)', 'Gene Names': 'Cyp4a12b', 'Organism': 'Mus musculus (Mouse)', 'Sequence': 'MSASALSSIRFPGSISEYLQVASVLSLLLLLFKTAQLYLHRQWLLSSTQQFPSPPSHWLFGHKILKDQDLQDILTRIKNFPSACPQWLWGSKVRIQVYDPDYMKLILGRSDPKAHGSYRFLAPWIGRGLLLLDGQTWFQHRRMLTPAFHYDILKPYTEIMADSVHVMLDKWEQIVGQDSTLEIFQHITLMTLDTIMKCAFSHEGSVQLDRKYKSYIQAVEDLNNLFFLRVRNIFHQNDIIYRVSSNGCLANSACQLAHDHTDQVIKSRRSQLQDEEELEKLKKKRRLDFLDILLFARMENGKSLSDKDLRAEVDTFMFEGHDTTASGISWIFYALATNPEHQQRCRKEIQSLLGDGASITWNDLDKMPYTTMCIKEALRIYPPVPSVSRELSSPVTFPDGRSLPKGIHVMLSFYGLHHNPTVWPNPEVFDPSRFAPGSSRHSHSFLPFSGGARNCIGKQFAMNELKVAVALTLLRFELLPDPTRVPIPIPRIVLKSKNGIHLHLKKLQ', 'EC number': '1.14.14.1', 'InterPro': ['IPR002401', 'IPR036396', 'IPR001128', 'IPR050196', 'IPR017972'], 'Status': 'Known'}\n"
     ]
    }
   ],
   "source": [
    "# ### Échantillonnage des données\n",
    "sampled_rdd = classified_rdd.sample(False, 0.05, seed=42)\n",
    "print(f\"Sample size: {sampled_rdd.count()}\")\n",
    "\n",
    "print(\"data preview:\")\n",
    "for row in sampled_rdd.take(5):\n",
    "    print(row)"
   ]
  },
  {
   "cell_type": "code",
   "execution_count": 24,
   "id": "1c833b7c-4e50-434c-bce2-dc09b5492882",
   "metadata": {},
   "outputs": [
    {
     "name": "stdout",
     "output_type": "stream",
     "text": [
      "Fichiers sauvegardés dans : path/to/nodes.json\n",
      "Sample nodes:\n",
      "{'id': 'A0A075F5C6', 'name': 'Heat shock factor 1 (Heat shock transcription factor 1 gammabeta isoform)', 'gene': 'Hsf1', 'organism': 'Mus musculus (Mouse)', 'domains': ['IPR036390', 'IPR027725', 'IPR000232', 'IPR010542', 'IPR036388'], 'status': 'Unknown'}\n",
      "{'id': 'A0A087WPF7', 'name': 'Autism susceptibility gene 2 protein homolog', 'gene': 'Auts2 Kiaa0442', 'organism': 'Mus musculus (Mouse)', 'domains': ['IPR023246'], 'status': 'Unknown'}\n",
      "{'id': 'A0A087WRT4', 'name': 'FAT atypical cadherin 1', 'gene': 'Fat1', 'organism': 'Mus musculus (Mouse)', 'domains': ['IPR018097', 'IPR000742', 'IPR002126', 'IPR001791', 'IPR009030', 'IPR020894', 'IPR039808', 'IPR001881', 'IPR000152', 'IPR015919', 'IPR013320', 'IPR049883'], 'status': 'Unknown'}\n",
      "{'id': 'A0A0A6YXR0', 'name': 'Choline/ethanolaminephosphotransferase 1 (EC 2.7.8.1) (EC 2.7.8.2) (EC 2.7.8.22) (1-alkenyl-2-acylglycerol choline phosphotransferase)', 'gene': 'Cept1', 'organism': 'Mus musculus (Mouse)', 'domains': ['IPR048254', 'IPR043130', 'IPR000462', 'IPR014472'], 'status': 'Known'}\n",
      "{'id': 'A0A0A6YXU9', 'name': 'Transforming growth factor beta', 'gene': 'Tgfb2', 'organism': 'Mus musculus (Mouse)', 'domains': ['IPR003940', 'IPR029034', 'IPR017948', 'IPR016319', 'IPR015615', 'IPR001111', 'IPR001839'], 'status': 'Unknown'}\n"
     ]
    }
   ],
   "source": [
    "# ## Étape 3 : Construction des Nœuds\n",
    "\n",
    "# ### Création des Nœuds\n",
    "def create_node(row):\n",
    "    \"\"\"\n",
    "    Transforme une ligne en un nœud avec ses attributs.\n",
    "    \"\"\"\n",
    "    try:\n",
    "        return {\n",
    "            \"id\": row[\"Entry\"],  \n",
    "            \"name\": row.get(\"Protein names\", \"\"),\n",
    "            \"gene\": row.get(\"Gene Names\", \"\"),\n",
    "            \"organism\": row.get(\"Organism\", \"\"),\n",
    "            \"domains\": row.get(\"InterPro\", []),\n",
    "            \"status\": row.get(\"Status\", \"Unknown\")\n",
    "        }\n",
    "    except KeyError as e:\n",
    "        print(f\"KeyError in create_node: {e}\")\n",
    "        return None\n",
    "\n",
    "nodes_rdd = classified_rdd.map(create_node).filter(lambda x: x is not None)\n",
    "\n",
    "# Fonction pour gérer la suppression des fichiers existants\n",
    "def safe_save_as_textfile(rdd, path):\n",
    "    \"\"\"\n",
    "    Sauvegarde un RDD dans un dossier tout en écrasant les fichiers existants.\n",
    "    \"\"\"\n",
    "    if os.path.exists(path):\n",
    "        print(f\"Le chemin {path} existe. Suppression en cours...\")\n",
    "        shutil.rmtree(path)\n",
    "    rdd.map(lambda x: json.dumps(x)).saveAsTextFile(path)\n",
    "    print(f\"Fichiers sauvegardés dans : {path}\")\n",
    "\n",
    "# Exportation des nœuds en JSON\n",
    "output_nodes_path = \"path/to/nodes.json\"  # Remplacez par votre chemin\n",
    "safe_save_as_textfile(nodes_rdd, output_nodes_path)\n",
    "\n",
    "# Aperçu des nœuds créés\n",
    "print(\"Sample nodes:\")\n",
    "for node in nodes_rdd.take(5):\n",
    "    print(node)"
   ]
  },
  {
   "cell_type": "code",
   "execution_count": 25,
   "id": "00b082ec-bc29-41ee-a624-8fd38c850f71",
   "metadata": {},
   "outputs": [
    {
     "name": "stdout",
     "output_type": "stream",
     "text": [
      "Sample edges:\n",
      "{'source': 'A0A075F5C6', 'target': 'A0A075F5C6', 'weight': 1.0}\n",
      "{'source': 'A0A075F5C6', 'target': 'P38532', 'weight': 1.0}\n",
      "{'source': 'A0A075F5C6', 'target': 'P38533', 'weight': 1.0}\n",
      "{'source': 'A0A075F5C6', 'target': 'Q8BWK6', 'weight': 1.0}\n",
      "{'source': 'A0A075F5C6', 'target': 'A0A075F6C2', 'weight': 1.0}\n",
      "Total nodes: 53841\n",
      "Total edges: 2054347\n",
      "Le chemin path/to/edges.json existe. Suppression en cours...\n",
      "Fichiers sauvegardés dans : path/to/edges.json\n",
      "Sample edges:\n",
      "{'source': 'A0A075F5C6', 'target': 'A0A075F5C6', 'weight': 1.0}\n",
      "{'source': 'A0A075F5C6', 'target': 'P38532', 'weight': 1.0}\n",
      "{'source': 'A0A075F5C6', 'target': 'P38533', 'weight': 1.0}\n",
      "{'source': 'A0A075F5C6', 'target': 'Q8BWK6', 'weight': 1.0}\n",
      "{'source': 'A0A075F5C6', 'target': 'A0A075F6C2', 'weight': 1.0}\n"
     ]
    }
   ],
   "source": [
    "# ## la Création des Arêtes\n",
    "\n",
    "# ### Fonction de Similarité de Jaccard\n",
    "def jaccard_similarity(domains1, domains2):\n",
    "    set1, set2 = set(domains1), set(domains2)\n",
    "    intersection = len(set1 & set2)\n",
    "    union = len(set1 | set2)\n",
    "    return intersection / union if union > 0 else 0\n",
    "\n",
    "# ### Filtrage basé sur la taille des domaines\n",
    "def should_compare(node1, node2):\n",
    "    \"\"\"\n",
    "    Vérifie si deux nœuds doivent être comparés en fonction de la taille des domaines.\n",
    "    \"\"\"\n",
    "    len1, len2 = len(node1[\"domains\"]), len(node2[\"domains\"])\n",
    "    return abs(len1 - len2) <= 5  # Tolérance sur la taille des domaines\n",
    "\n",
    "# ### Création des partitions par organisme et hashing pour optimiser les comparaisons\n",
    "def hash_domains(domains):\n",
    "    \"\"\"\n",
    "    Génère un hash simplifié basé sur les domaines pour limiter les comparaisons.\n",
    "    \"\"\"\n",
    "    return hash(tuple(sorted(domains))) % 100  # Exemple : 100 partitions logiques\n",
    "\n",
    "def create_partitioned_edges(node, partitioned_data):\n",
    "    \"\"\"\n",
    "    Génère les arêtes pour un nœud donné en comparant uniquement avec les nœuds de la même partition.\n",
    "    \"\"\"\n",
    "    source = node[\"id\"]\n",
    "    source_domains = node[\"domains\"]\n",
    "    source_hash = hash_domains(source_domains)\n",
    "    edges = []\n",
    "    for target_node in partitioned_data.get(source_hash, []):\n",
    "        target = target_node[\"id\"]\n",
    "        target_domains = target_node[\"domains\"]\n",
    "        if should_compare(node, target_node):\n",
    "            similarity = jaccard_similarity(source_domains, target_domains)\n",
    "            if similarity > 0.3:  # Seuil de similarité\n",
    "                edges.append({\"source\": source, \"target\": target, \"weight\": similarity})\n",
    "    return edges\n",
    "\n",
    "# Ajout d'un hash logique aux partitions\n",
    "nodes_with_hashes = nodes_rdd.map(lambda node: {**node, \"hash\": hash_domains(node[\"domains\"])})\n",
    "partitioned_data = nodes_with_hashes.groupBy(lambda node: node[\"hash\"]).mapValues(list).collectAsMap()\n",
    "partitioned_data_broadcast = spark.sparkContext.broadcast(partitioned_data)\n",
    "\n",
    "# Création des arêtes optimisées\n",
    "edges_rdd = nodes_with_hashes.flatMap(lambda node: create_partitioned_edges(node, partitioned_data_broadcast.value))\n",
    "\n",
    "# ### Exportation des Arêtes\n",
    "output_edges_path = \"path/to/edges.json\"  # Remplacez par votre chemin\n",
    "edges_rdd.map(lambda edge: json.dumps(edge)).saveAsTextFile(output_edges_path)\n",
    "\n",
    "# Aperçu des Arêtes Créées\n",
    "print(\"Sample edges:\")\n",
    "for edge in edges_rdd.take(5):\n",
    "    print(edge)\n",
    "\n",
    "# ### Résumé des Résultats\n",
    "print(f\"Total nodes: {nodes_rdd.count()}\")\n",
    "print(f\"Total edges: {edges_rdd.count()}\")\n",
    "\n",
    "# ### Fonction de Similarité de Jaccard\n",
    "def jaccard_similarity(domains1, domains2):\n",
    "    set1, set2 = set(domains1), set(domains2)\n",
    "    intersection = len(set1 & set2)\n",
    "    union = len(set1 | set2)\n",
    "    return intersection / union if union > 0 else 0\n",
    "\n",
    "# ### Filtrage basé sur la taille des domaines\n",
    "def should_compare(node1, node2):\n",
    "    \"\"\"\n",
    "    Vérifie si deux nœuds doivent être comparés en fonction de la taille des domaines.\n",
    "    \"\"\"\n",
    "    len1, len2 = len(node1[\"domains\"]), len(node2[\"domains\"])\n",
    "    return abs(len1 - len2) <= 5  # Tolérance sur la taille des domaines\n",
    "\n",
    "# ### Création des partitions par organisme et hashing pour optimiser les comparaisons\n",
    "def hash_domains(domains):\n",
    "    \"\"\"\n",
    "    Génère un hash simplifié basé sur les domaines pour limiter les comparaisons.\n",
    "    \"\"\"\n",
    "    return hash(tuple(sorted(domains))) % 100  # Exemple : 100 partitions logiques\n",
    "\n",
    "def create_partitioned_edges(node, partitioned_data):\n",
    "    \"\"\"\n",
    "    Génère les arêtes pour un nœud donné en comparant uniquement avec les nœuds de la même partition.\n",
    "    \"\"\"\n",
    "    source = node[\"id\"]\n",
    "    source_domains = node[\"domains\"]\n",
    "    source_hash = hash_domains(source_domains)\n",
    "    edges = []\n",
    "    for target_node in partitioned_data.get(source_hash, []):\n",
    "        target = target_node[\"id\"]\n",
    "        target_domains = target_node[\"domains\"]\n",
    "        if should_compare(node, target_node):\n",
    "            similarity = jaccard_similarity(source_domains, target_domains)\n",
    "            if similarity > 0.5:  \n",
    "                edges.append({\"source\": source, \"target\": target, \"weight\": similarity})\n",
    "    return edges\n",
    "\n",
    "# Ajout d'un hash logique aux partitions\n",
    "nodes_with_hashes = nodes_rdd.map(lambda node: {**node, \"hash\": hash_domains(node[\"domains\"])})\n",
    "partitioned_data = nodes_with_hashes.groupBy(lambda node: node[\"hash\"]).mapValues(list).collectAsMap()\n",
    "partitioned_data_broadcast = spark.sparkContext.broadcast(partitioned_data)\n",
    "\n",
    "# Création des arêtes optimisées\n",
    "edges_rdd = nodes_with_hashes.flatMap(lambda node: create_partitioned_edges(node, partitioned_data_broadcast.value))\n",
    "\n",
    "# Fonction pour supprimer un répertoire s'il existe\n",
    "def safe_save_edges_as_textfile(rdd, path):\n",
    "    \"\"\"\n",
    "    Sauvegarde un RDD dans un fichier texte tout en supprimant les fichiers existants.\n",
    "    \"\"\"\n",
    "    if os.path.exists(path):\n",
    "        print(f\"Le chemin {path} existe. Suppression en cours...\")\n",
    "        shutil.rmtree(path)\n",
    "    rdd.map(lambda x: json.dumps(x)).saveAsTextFile(path)\n",
    "    print(f\"Fichiers sauvegardés dans : {path}\")\n",
    "\n",
    "# Exportation des arêtes\n",
    "output_edges_path = \"path/to/edges.json\" \n",
    "safe_save_edges_as_textfile(edges_rdd, output_edges_path)\n",
    "\n",
    "# Aperçu des Arêtes Créées\n",
    "print(\"Edges:\")\n",
    "for edge in edges_rdd.take(5):\n",
    "    print(edge)"
   ]
  },
  {
   "cell_type": "code",
   "execution_count": 26,
   "id": "0698444d-ed6c-4e39-8d88-ef10e67b3700",
   "metadata": {},
   "outputs": [
    {
     "name": "stdout",
     "output_type": "stream",
     "text": [
      "Total nodes: 53841\n",
      "Total edges: 1982121\n"
     ]
    }
   ],
   "source": [
    "# ### Résumé des Résultats\n",
    "print(f\"Total nodes: {nodes_rdd.count()}\")\n",
    "print(f\"Total edges: {edges_rdd.count()}\")"
   ]
  },
  {
   "cell_type": "code",
   "execution_count": 27,
   "id": "b53d59d3-664f-435b-93d8-42a8528014e7",
   "metadata": {},
   "outputs": [
    {
     "name": "stdout",
     "output_type": "stream",
     "text": [
      "Top nodes by degree:\n",
      "Node Q8VEY3 has degree 1023\n",
      "Node Q8VEZ0 has degree 1023\n",
      "Node Q8VFK2 has degree 1023\n",
      "Node Q8VFX2 has degree 1023\n",
      "Node A2BHP6 has degree 1023\n",
      "Node P34983 has degree 1023\n",
      "Node P34984 has degree 1023\n",
      "Node P34985 has degree 1023\n",
      "Node Q0VAX9 has degree 1023\n",
      "Node Q60880 has degree 1023\n"
     ]
    }
   ],
   "source": [
    "# Calcul du degré des nœuds (nombre d'arêtes associées)\n",
    "node_degrees = edges_rdd.map(lambda edge: (edge[\"source\"], 1)).reduceByKey(lambda a, b: a + b)\n",
    "print(\"Top nodes by degree:\")\n",
    "for node, degree in node_degrees.takeOrdered(10, key=lambda x: -x[1]):\n",
    "    print(f\"Node {node} has degree {degree}\")"
   ]
  },
  {
   "cell_type": "code",
   "execution_count": 28,
   "id": "80e7da79-3946-4a1b-9216-bf5fff5609b6",
   "metadata": {},
   "outputs": [
    {
     "name": "stderr",
     "output_type": "stream",
     "text": [
      "/usr/local/spark/python/pyspark/sql/dataframe.py:168: UserWarning: DataFrame.sql_ctx is an internal property, and will be removed in future releases. Use DataFrame.sparkSession instead.\n",
      "  warnings.warn(\n"
     ]
    },
    {
     "name": "stdout",
     "output_type": "stream",
     "text": [
      "+----------+--------------------+\n",
      "|        id|          attributes|\n",
      "+----------+--------------------+\n",
      "|A0A075F5C6|{organism -> Mus ...|\n",
      "|A0A087WPF7|{organism -> Mus ...|\n",
      "|A0A087WRT4|{organism -> Mus ...|\n",
      "|A0A0A6YXR0|{organism -> Mus ...|\n",
      "|A0A0A6YXU9|{organism -> Mus ...|\n",
      "|A0A0B4J1G0|{organism -> Mus ...|\n",
      "|A0A0B4J1N3|{organism -> Mus ...|\n",
      "|A0A0G2JGI9|{organism -> Mus ...|\n",
      "|A0A0R4IZW5|{organism -> Mus ...|\n",
      "|A0A0R4IZY3|{organism -> Mus ...|\n",
      "|A0A0R4J049|{organism -> Mus ...|\n",
      "|A0A0R4J093|{organism -> Mus ...|\n",
      "|A0A0R4J0N8|{organism -> Mus ...|\n",
      "|A0A0R4J115|{organism -> Mus ...|\n",
      "|A0A0R4J136|{organism -> Mus ...|\n",
      "|A0A0R4J1M7|{organism -> Mus ...|\n",
      "|A0A0R4J1Q7|{organism -> Mus ...|\n",
      "|A0A0U1RNJ1|{organism -> Mus ...|\n",
      "|A0A0U1RNR0|{organism -> Mus ...|\n",
      "|A0A0U1RPR8|{organism -> Mus ...|\n",
      "+----------+--------------------+\n",
      "only showing top 20 rows\n",
      "\n",
      "+----------+----------+------+\n",
      "|       src|       dst|weight|\n",
      "+----------+----------+------+\n",
      "|A0A075F5C6|A0A075F5C6|   1.0|\n",
      "|A0A075F5C6|    P38532|   1.0|\n",
      "|A0A075F5C6|    P38533|   1.0|\n",
      "|A0A075F5C6|    Q8BWK6|   1.0|\n",
      "|A0A075F5C6|A0A075F6C2|   1.0|\n",
      "|A0A075F5C6|A0A2R8W6L8|   1.0|\n",
      "|A0A075F5C6|A0A1W2P8F8|   1.0|\n",
      "|A0A075F5C6|A0A075F882|   1.0|\n",
      "|A0A075F5C6|A0A075F891|   1.0|\n",
      "|A0A087WPF7|A0A087WPF7|   1.0|\n",
      "|A0A087WPF7|A0A0G2JDI2|   1.0|\n",
      "|A0A087WPF7|A0A0G2JG68|   1.0|\n",
      "|A0A087WPF7|A0A7P0A163|   1.0|\n",
      "|A0A087WPF7|    E0CZ47|   1.0|\n",
      "|A0A087WPF7|    E9PZ86|   1.0|\n",
      "|A0A087WPF7|    Q8R089|   1.0|\n",
      "|A0A087WPF7|A0A0G2JE44|   1.0|\n",
      "|A0A087WPF7|A0A0G2JFF2|   1.0|\n",
      "|A0A087WPF7|A0A0U1RPV5|   1.0|\n",
      "|A0A087WPF7|A0A1N9PTV1|   1.0|\n",
      "+----------+----------+------+\n",
      "only showing top 20 rows\n",
      "\n"
     ]
    }
   ],
   "source": [
    "from graphframes import GraphFrame\n",
    "from pyspark.sql import SparkSession\n",
    "\n",
    "# Convertir les RDDs en DataFrames\n",
    "nodes_df = nodes_rdd.map(lambda node: (node[\"id\"], node)).toDF([\"id\", \"attributes\"])\n",
    "edges_df = edges_rdd.map(lambda edge: (edge[\"source\"], edge[\"target\"], edge[\"weight\"])).toDF([\"src\", \"dst\", \"weight\"])\n",
    "\n",
    "# Construire le graphe\n",
    "graph = GraphFrame(nodes_df, edges_df)\n",
    "\n",
    "# Analyse basique\n",
    "graph.vertices.show()  # Affiche les nœuds\n",
    "graph.edges.show()     # Affiche les arêtes\n"
   ]
  }
 ],
 "metadata": {
  "kernelspec": {
   "display_name": "Python 3 (ipykernel)",
   "language": "python",
   "name": "python3"
  },
  "language_info": {
   "codemirror_mode": {
    "name": "ipython",
    "version": 3
   },
   "file_extension": ".py",
   "mimetype": "text/x-python",
   "name": "python",
   "nbconvert_exporter": "python",
   "pygments_lexer": "ipython3",
   "version": "3.11.6"
  }
 },
 "nbformat": 4,
 "nbformat_minor": 5
}
