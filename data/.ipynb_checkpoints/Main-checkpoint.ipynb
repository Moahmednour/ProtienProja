{
 "cells": [
  {
   "cell_type": "code",
   "execution_count": 1,
   "id": "4d7260a1-7d7a-425a-a7af-c457c073b27d",
   "metadata": {},
   "outputs": [],
   "source": [
    "from pyspark.sql import SparkSession\n",
    "from pyspark.sql.functions import split, col, size, array_intersect, array_union, lit\n",
    "from graphframes import GraphFrame"
   ]
  },
  {
   "cell_type": "markdown",
   "id": "1b149ce7-69b2-436d-9de1-944f35a53abe",
   "metadata": {},
   "source": [
    "**Initialize Spark Session**"
   ]
  },
  {
   "cell_type": "code",
   "execution_count": 3,
   "id": "d960c81a-6bbb-489d-ad85-d1080d981d15",
   "metadata": {},
   "outputs": [],
   "source": [
    "spark = SparkSession.builder \\\n",
    "    .appName(\"ProteinGraph\") \\\n",
    "    .config(\"spark.executor.memory\", \"8g\") \\\n",
    "    .config(\"spark.driver.memory\", \"8g\") \\\n",
    "    .config(\"spark.sql.shuffle.partitions\", \"200\") \\\n",
    "    .getOrCreate()"
   ]
  },
  {
   "cell_type": "markdown",
   "id": "513352d3-0791-42dd-bb97-eec7d2a32f5b",
   "metadata": {},
   "source": [
    "**Load Data**"
   ]
  },
  {
   "cell_type": "code",
   "execution_count": 6,
   "id": "5910ff7d-2bc6-4ab6-bd5c-c3c9092c8d6b",
   "metadata": {},
   "outputs": [
    {
     "name": "stdout",
     "output_type": "stream",
     "text": [
      "Preview of raw data:\n",
      "+----------+----------------+--------------------+--------------------+--------------------+--------------------+---------+--------------------+\n",
      "|     Entry|      Entry Name|       Protein names|          Gene Names|            Organism|            Sequence|EC number|            InterPro|\n",
      "+----------+----------------+--------------------+--------------------+--------------------+--------------------+---------+--------------------+\n",
      "|A0A075F5C6|A0A075F5C6_MOUSE|Heat shock factor...|                Hsf1|Mus musculus (Mouse)|MDLAVGPGAAGPSNVPA...|     NULL|IPR000232;IPR0277...|\n",
      "|A0A087WPF7|     AUTS2_MOUSE|Autism susceptibi...|      Auts2 Kiaa0442|Mus musculus (Mouse)|MDGPTRGHGLRKKRRSR...|     NULL|          IPR023246;|\n",
      "|A0A087WRK1|A0A087WRK1_MOUSE|Predicted gene, 2...|Gm20905 Gm20814 G...|Mus musculus (Mouse)|MRRMALKKLKVIPKEGY...|     NULL|IPR051443;IPR006888;|\n",
      "|A0A087WRT4|A0A087WRT4_MOUSE|FAT atypical cadh...|                Fat1|Mus musculus (Mouse)|MGRHLTLLLLLLLFLQQ...|     NULL|IPR039808;IPR0021...|\n",
      "|A0A087WSP5|A0A087WSP5_MOUSE|Signal transducer...|               Stat1|Mus musculus (Mouse)|MSQWFELQQLDSKFLEQ...|     NULL|IPR008967;IPR0009...|\n",
      "+----------+----------------+--------------------+--------------------+--------------------+--------------------+---------+--------------------+\n",
      "only showing top 5 rows\n",
      "\n",
      "Total rows: 61123\n"
     ]
    }
   ],
   "source": [
    "file_path = \"data/test.tsv\"  # Replace with your file path\n",
    "df = spark.read.csv(file_path, sep=\"\\t\", header=True)\n",
    "\n",
    "print(\"Preview of raw data:\")\n",
    "df.show(5)\n",
    "\n",
    "print(f\"Total rows: {df.count()}\")"
   ]
  },
  {
   "cell_type": "code",
   "execution_count": 7,
   "id": "9f135832-9c9c-4b5c-a757-afb9771e46fb",
   "metadata": {},
   "outputs": [
    {
     "name": "stdout",
     "output_type": "stream",
     "text": [
      "root\n",
      " |-- Entry: string (nullable = true)\n",
      " |-- Entry Name: string (nullable = true)\n",
      " |-- Protein names: string (nullable = true)\n",
      " |-- Gene Names: string (nullable = true)\n",
      " |-- Organism: string (nullable = true)\n",
      " |-- Sequence: string (nullable = true)\n",
      " |-- EC number: string (nullable = true)\n",
      " |-- InterPro: string (nullable = true)\n",
      "\n"
     ]
    }
   ],
   "source": [
    "df.printSchema()"
   ]
  },
  {
   "cell_type": "markdown",
   "id": "54b71f43-f730-4e8a-afb0-96280081de3f",
   "metadata": {},
   "source": [
    "**Data Cleaning**"
   ]
  },
  {
   "cell_type": "code",
   "execution_count": 9,
   "id": "f6442bc6-3e79-4133-954e-a421d243d9eb",
   "metadata": {},
   "outputs": [
    {
     "name": "stdout",
     "output_type": "stream",
     "text": [
      "Preview of cleaned data:\n",
      "+----------+----------------+--------------------+--------------------+--------------------+--------------------+---------+--------------------+--------------------+\n",
      "|     Entry|      Entry Name|       Protein names|          Gene Names|            Organism|            Sequence|EC number|            InterPro|    InterPro_domains|\n",
      "+----------+----------------+--------------------+--------------------+--------------------+--------------------+---------+--------------------+--------------------+\n",
      "|A0A075F5C6|A0A075F5C6_MOUSE|Heat shock factor...|                Hsf1|Mus musculus (Mouse)|MDLAVGPGAAGPSNVPA...|     NULL|IPR000232;IPR0277...|[IPR000232, IPR02...|\n",
      "|A0A087WPF7|     AUTS2_MOUSE|Autism susceptibi...|      Auts2 Kiaa0442|Mus musculus (Mouse)|MDGPTRGHGLRKKRRSR...|     NULL|          IPR023246;|       [IPR023246, ]|\n",
      "|A0A087WRK1|A0A087WRK1_MOUSE|Predicted gene, 2...|Gm20905 Gm20814 G...|Mus musculus (Mouse)|MRRMALKKLKVIPKEGY...|     NULL|IPR051443;IPR006888;|[IPR051443, IPR00...|\n",
      "|A0A087WRT4|A0A087WRT4_MOUSE|FAT atypical cadh...|                Fat1|Mus musculus (Mouse)|MGRHLTLLLLLLLFLQQ...|     NULL|IPR039808;IPR0021...|[IPR039808, IPR00...|\n",
      "|A0A087WSP5|A0A087WSP5_MOUSE|Signal transducer...|               Stat1|Mus musculus (Mouse)|MSQWFELQQLDSKFLEQ...|     NULL|IPR008967;IPR0009...|[IPR008967, IPR00...|\n",
      "+----------+----------------+--------------------+--------------------+--------------------+--------------------+---------+--------------------+--------------------+\n",
      "only showing top 5 rows\n",
      "\n"
     ]
    }
   ],
   "source": [
    "df_cleaned = df.dropna(subset=[\"Entry\", \"InterPro\"])\n",
    "df_cleaned = df_cleaned.withColumn(\"InterPro_domains\", split(col(\"InterPro\"), \";\"))\n",
    "\n",
    "print(\"Preview of cleaned data:\")\n",
    "df_cleaned.show(5)"
   ]
  },
  {
   "cell_type": "markdown",
   "id": "3c73e429-9bc4-495e-a386-bd304a8a7120",
   "metadata": {},
   "source": [
    "**Pairwise Similarity Computation**"
   ]
  },
  {
   "cell_type": "code",
   "execution_count": 10,
   "id": "0ff2b5f4-99e6-41d7-b9f5-f2390781528d",
   "metadata": {},
   "outputs": [
    {
     "name": "stdout",
     "output_type": "stream",
     "text": [
      "Preview of graph edges:\n",
      "+----------+--------+-------------------+\n",
      "|  Protein1|Protein2|             Weight|\n",
      "+----------+--------+-------------------+\n",
      "|A0A075F5C6|  A2A432|0.23076923076923078|\n",
      "|A0A075F5C6|  D0VYS2| 0.8333333333333334|\n",
      "|A0A075F5C6|  D3KU66|                0.3|\n",
      "|A0A075F5C6|  D3Z120|                0.3|\n",
      "|A0A075F5C6|  D3Z6Q4| 0.2727272727272727|\n",
      "+----------+--------+-------------------+\n",
      "only showing top 5 rows\n",
      "\n"
     ]
    }
   ],
   "source": [
    "protein_pairs = df_cleaned.alias(\"a\").crossJoin(df_cleaned.alias(\"b\")) \\\n",
    "    .filter(col(\"a.Entry\") < col(\"b.Entry\"))\n",
    "\n",
    "protein_pairs = protein_pairs.withColumn(\n",
    "    \"IntersectionSize\", size(array_intersect(col(\"a.InterPro_domains\"), col(\"b.InterPro_domains\")))\n",
    ").withColumn(\n",
    "    \"UnionSize\", size(array_union(col(\"a.InterPro_domains\"), col(\"b.InterPro_domains\")))\n",
    ")\n",
    "\n",
    "protein_pairs = protein_pairs.withColumn(\n",
    "    \"JaccardSimilarity\", col(\"IntersectionSize\") / col(\"UnionSize\")\n",
    ")\n",
    "\n",
    "# Advanced Filtering\n",
    "similarity_threshold = 0.2\n",
    "min_intersection_size = 2\n",
    "filtered_pairs = protein_pairs.filter((col(\"JaccardSimilarity\") >= similarity_threshold) &\n",
    "                                      (col(\"IntersectionSize\") >= min_intersection_size))\n",
    "\n",
    "edges_df = filtered_pairs.select(\n",
    "    col(\"a.Entry\").alias(\"Protein1\"),\n",
    "    col(\"b.Entry\").alias(\"Protein2\"),\n",
    "    col(\"JaccardSimilarity\").alias(\"Weight\")\n",
    ")\n",
    "\n",
    "print(\"Preview of graph edges:\")\n",
    "edges_df.show(5)"
   ]
  },
  {
   "cell_type": "code",
   "execution_count": 16,
   "id": "8b275896-ea38-4cd4-8962-a06df9f7503a",
   "metadata": {},
   "outputs": [
    {
     "ename": "Py4JJavaError",
     "evalue": "An error occurred while calling o111.loadClass.\n: java.lang.ClassNotFoundException: org.graphframes.GraphFramePythonAPI\n\tat java.base/java.net.URLClassLoader.findClass(URLClassLoader.java:445)\n\tat java.base/java.lang.ClassLoader.loadClass(ClassLoader.java:592)\n\tat java.base/java.lang.ClassLoader.loadClass(ClassLoader.java:525)\n\tat java.base/jdk.internal.reflect.NativeMethodAccessorImpl.invoke0(Native Method)\n\tat java.base/jdk.internal.reflect.NativeMethodAccessorImpl.invoke(NativeMethodAccessorImpl.java:77)\n\tat java.base/jdk.internal.reflect.DelegatingMethodAccessorImpl.invoke(DelegatingMethodAccessorImpl.java:43)\n\tat java.base/java.lang.reflect.Method.invoke(Method.java:568)\n\tat py4j.reflection.MethodInvoker.invoke(MethodInvoker.java:244)\n\tat py4j.reflection.ReflectionEngine.invoke(ReflectionEngine.java:374)\n\tat py4j.Gateway.invoke(Gateway.java:282)\n\tat py4j.commands.AbstractCommand.invokeMethod(AbstractCommand.java:132)\n\tat py4j.commands.CallCommand.execute(CallCommand.java:79)\n\tat py4j.ClientServerConnection.waitForCommands(ClientServerConnection.java:182)\n\tat py4j.ClientServerConnection.run(ClientServerConnection.java:106)\n\tat java.base/java.lang.Thread.run(Thread.java:833)\n",
     "output_type": "error",
     "traceback": [
      "\u001b[0;31m---------------------------------------------------------------------------\u001b[0m",
      "\u001b[0;31mPy4JJavaError\u001b[0m                             Traceback (most recent call last)",
      "Cell \u001b[0;32mIn[16], line 5\u001b[0m\n\u001b[1;32m      2\u001b[0m vertices_df \u001b[38;5;241m=\u001b[39m df_cleaned\u001b[38;5;241m.\u001b[39mselect(col(\u001b[38;5;124m\"\u001b[39m\u001b[38;5;124mEntry\u001b[39m\u001b[38;5;124m\"\u001b[39m)\u001b[38;5;241m.\u001b[39malias(\u001b[38;5;124m\"\u001b[39m\u001b[38;5;124mid\u001b[39m\u001b[38;5;124m\"\u001b[39m))\u001b[38;5;241m.\u001b[39mdistinct()\n\u001b[1;32m      4\u001b[0m \u001b[38;5;66;03m# Create GraphFrame\u001b[39;00m\n\u001b[0;32m----> 5\u001b[0m protein_graph \u001b[38;5;241m=\u001b[39m \u001b[43mGraphFrame\u001b[49m\u001b[43m(\u001b[49m\u001b[43mvertices_df\u001b[49m\u001b[43m,\u001b[49m\u001b[43m \u001b[49m\u001b[43medges_df\u001b[49m\u001b[43m)\u001b[49m\n\u001b[1;32m      7\u001b[0m \u001b[38;5;66;03m# Graph Analysis - Node Degrees\u001b[39;00m\n\u001b[1;32m      8\u001b[0m degrees \u001b[38;5;241m=\u001b[39m protein_graph\u001b[38;5;241m.\u001b[39mdegrees\n",
      "File \u001b[0;32m/opt/conda/lib/python3.11/site-packages/graphframes/graphframe.py:65\u001b[0m, in \u001b[0;36mGraphFrame.__init__\u001b[0;34m(self, v, e)\u001b[0m\n\u001b[1;32m     63\u001b[0m \u001b[38;5;28mself\u001b[39m\u001b[38;5;241m.\u001b[39m_sqlContext \u001b[38;5;241m=\u001b[39m v\u001b[38;5;241m.\u001b[39msql_ctx\n\u001b[1;32m     64\u001b[0m \u001b[38;5;28mself\u001b[39m\u001b[38;5;241m.\u001b[39m_sc \u001b[38;5;241m=\u001b[39m \u001b[38;5;28mself\u001b[39m\u001b[38;5;241m.\u001b[39m_sqlContext\u001b[38;5;241m.\u001b[39m_sc\n\u001b[0;32m---> 65\u001b[0m \u001b[38;5;28mself\u001b[39m\u001b[38;5;241m.\u001b[39m_jvm_gf_api \u001b[38;5;241m=\u001b[39m \u001b[43m_java_api\u001b[49m\u001b[43m(\u001b[49m\u001b[38;5;28;43mself\u001b[39;49m\u001b[38;5;241;43m.\u001b[39;49m\u001b[43m_sc\u001b[49m\u001b[43m)\u001b[49m\n\u001b[1;32m     67\u001b[0m \u001b[38;5;28mself\u001b[39m\u001b[38;5;241m.\u001b[39mID \u001b[38;5;241m=\u001b[39m \u001b[38;5;28mself\u001b[39m\u001b[38;5;241m.\u001b[39m_jvm_gf_api\u001b[38;5;241m.\u001b[39mID()\n\u001b[1;32m     68\u001b[0m \u001b[38;5;28mself\u001b[39m\u001b[38;5;241m.\u001b[39mSRC \u001b[38;5;241m=\u001b[39m \u001b[38;5;28mself\u001b[39m\u001b[38;5;241m.\u001b[39m_jvm_gf_api\u001b[38;5;241m.\u001b[39mSRC()\n",
      "File \u001b[0;32m/opt/conda/lib/python3.11/site-packages/graphframes/graphframe.py:38\u001b[0m, in \u001b[0;36m_java_api\u001b[0;34m(jsc)\u001b[0m\n\u001b[1;32m     36\u001b[0m \u001b[38;5;28;01mdef\u001b[39;00m \u001b[38;5;21m_java_api\u001b[39m(jsc):\n\u001b[1;32m     37\u001b[0m     javaClassName \u001b[38;5;241m=\u001b[39m \u001b[38;5;124m\"\u001b[39m\u001b[38;5;124morg.graphframes.GraphFramePythonAPI\u001b[39m\u001b[38;5;124m\"\u001b[39m\n\u001b[0;32m---> 38\u001b[0m     \u001b[38;5;28;01mreturn\u001b[39;00m \u001b[43mjsc\u001b[49m\u001b[38;5;241;43m.\u001b[39;49m\u001b[43m_jvm\u001b[49m\u001b[38;5;241;43m.\u001b[39;49m\u001b[43mThread\u001b[49m\u001b[38;5;241;43m.\u001b[39;49m\u001b[43mcurrentThread\u001b[49m\u001b[43m(\u001b[49m\u001b[43m)\u001b[49m\u001b[38;5;241;43m.\u001b[39;49m\u001b[43mgetContextClassLoader\u001b[49m\u001b[43m(\u001b[49m\u001b[43m)\u001b[49m\u001b[38;5;241;43m.\u001b[39;49m\u001b[43mloadClass\u001b[49m\u001b[43m(\u001b[49m\u001b[43mjavaClassName\u001b[49m\u001b[43m)\u001b[49m \\\n\u001b[1;32m     39\u001b[0m             \u001b[38;5;241m.\u001b[39mnewInstance()\n",
      "File \u001b[0;32m/usr/local/spark/python/lib/py4j-0.10.9.7-src.zip/py4j/java_gateway.py:1322\u001b[0m, in \u001b[0;36mJavaMember.__call__\u001b[0;34m(self, *args)\u001b[0m\n\u001b[1;32m   1316\u001b[0m command \u001b[38;5;241m=\u001b[39m proto\u001b[38;5;241m.\u001b[39mCALL_COMMAND_NAME \u001b[38;5;241m+\u001b[39m\\\n\u001b[1;32m   1317\u001b[0m     \u001b[38;5;28mself\u001b[39m\u001b[38;5;241m.\u001b[39mcommand_header \u001b[38;5;241m+\u001b[39m\\\n\u001b[1;32m   1318\u001b[0m     args_command \u001b[38;5;241m+\u001b[39m\\\n\u001b[1;32m   1319\u001b[0m     proto\u001b[38;5;241m.\u001b[39mEND_COMMAND_PART\n\u001b[1;32m   1321\u001b[0m answer \u001b[38;5;241m=\u001b[39m \u001b[38;5;28mself\u001b[39m\u001b[38;5;241m.\u001b[39mgateway_client\u001b[38;5;241m.\u001b[39msend_command(command)\n\u001b[0;32m-> 1322\u001b[0m return_value \u001b[38;5;241m=\u001b[39m \u001b[43mget_return_value\u001b[49m\u001b[43m(\u001b[49m\n\u001b[1;32m   1323\u001b[0m \u001b[43m    \u001b[49m\u001b[43manswer\u001b[49m\u001b[43m,\u001b[49m\u001b[43m \u001b[49m\u001b[38;5;28;43mself\u001b[39;49m\u001b[38;5;241;43m.\u001b[39;49m\u001b[43mgateway_client\u001b[49m\u001b[43m,\u001b[49m\u001b[43m \u001b[49m\u001b[38;5;28;43mself\u001b[39;49m\u001b[38;5;241;43m.\u001b[39;49m\u001b[43mtarget_id\u001b[49m\u001b[43m,\u001b[49m\u001b[43m \u001b[49m\u001b[38;5;28;43mself\u001b[39;49m\u001b[38;5;241;43m.\u001b[39;49m\u001b[43mname\u001b[49m\u001b[43m)\u001b[49m\n\u001b[1;32m   1325\u001b[0m \u001b[38;5;28;01mfor\u001b[39;00m temp_arg \u001b[38;5;129;01min\u001b[39;00m temp_args:\n\u001b[1;32m   1326\u001b[0m     \u001b[38;5;28;01mif\u001b[39;00m \u001b[38;5;28mhasattr\u001b[39m(temp_arg, \u001b[38;5;124m\"\u001b[39m\u001b[38;5;124m_detach\u001b[39m\u001b[38;5;124m\"\u001b[39m):\n",
      "File \u001b[0;32m/usr/local/spark/python/pyspark/errors/exceptions/captured.py:179\u001b[0m, in \u001b[0;36mcapture_sql_exception.<locals>.deco\u001b[0;34m(*a, **kw)\u001b[0m\n\u001b[1;32m    177\u001b[0m \u001b[38;5;28;01mdef\u001b[39;00m \u001b[38;5;21mdeco\u001b[39m(\u001b[38;5;241m*\u001b[39ma: Any, \u001b[38;5;241m*\u001b[39m\u001b[38;5;241m*\u001b[39mkw: Any) \u001b[38;5;241m-\u001b[39m\u001b[38;5;241m>\u001b[39m Any:\n\u001b[1;32m    178\u001b[0m     \u001b[38;5;28;01mtry\u001b[39;00m:\n\u001b[0;32m--> 179\u001b[0m         \u001b[38;5;28;01mreturn\u001b[39;00m \u001b[43mf\u001b[49m\u001b[43m(\u001b[49m\u001b[38;5;241;43m*\u001b[39;49m\u001b[43ma\u001b[49m\u001b[43m,\u001b[49m\u001b[43m \u001b[49m\u001b[38;5;241;43m*\u001b[39;49m\u001b[38;5;241;43m*\u001b[39;49m\u001b[43mkw\u001b[49m\u001b[43m)\u001b[49m\n\u001b[1;32m    180\u001b[0m     \u001b[38;5;28;01mexcept\u001b[39;00m Py4JJavaError \u001b[38;5;28;01mas\u001b[39;00m e:\n\u001b[1;32m    181\u001b[0m         converted \u001b[38;5;241m=\u001b[39m convert_exception(e\u001b[38;5;241m.\u001b[39mjava_exception)\n",
      "File \u001b[0;32m/usr/local/spark/python/lib/py4j-0.10.9.7-src.zip/py4j/protocol.py:326\u001b[0m, in \u001b[0;36mget_return_value\u001b[0;34m(answer, gateway_client, target_id, name)\u001b[0m\n\u001b[1;32m    324\u001b[0m value \u001b[38;5;241m=\u001b[39m OUTPUT_CONVERTER[\u001b[38;5;28mtype\u001b[39m](answer[\u001b[38;5;241m2\u001b[39m:], gateway_client)\n\u001b[1;32m    325\u001b[0m \u001b[38;5;28;01mif\u001b[39;00m answer[\u001b[38;5;241m1\u001b[39m] \u001b[38;5;241m==\u001b[39m REFERENCE_TYPE:\n\u001b[0;32m--> 326\u001b[0m     \u001b[38;5;28;01mraise\u001b[39;00m Py4JJavaError(\n\u001b[1;32m    327\u001b[0m         \u001b[38;5;124m\"\u001b[39m\u001b[38;5;124mAn error occurred while calling \u001b[39m\u001b[38;5;132;01m{0}\u001b[39;00m\u001b[38;5;132;01m{1}\u001b[39;00m\u001b[38;5;132;01m{2}\u001b[39;00m\u001b[38;5;124m.\u001b[39m\u001b[38;5;130;01m\\n\u001b[39;00m\u001b[38;5;124m\"\u001b[39m\u001b[38;5;241m.\u001b[39m\n\u001b[1;32m    328\u001b[0m         \u001b[38;5;28mformat\u001b[39m(target_id, \u001b[38;5;124m\"\u001b[39m\u001b[38;5;124m.\u001b[39m\u001b[38;5;124m\"\u001b[39m, name), value)\n\u001b[1;32m    329\u001b[0m \u001b[38;5;28;01melse\u001b[39;00m:\n\u001b[1;32m    330\u001b[0m     \u001b[38;5;28;01mraise\u001b[39;00m Py4JError(\n\u001b[1;32m    331\u001b[0m         \u001b[38;5;124m\"\u001b[39m\u001b[38;5;124mAn error occurred while calling \u001b[39m\u001b[38;5;132;01m{0}\u001b[39;00m\u001b[38;5;132;01m{1}\u001b[39;00m\u001b[38;5;132;01m{2}\u001b[39;00m\u001b[38;5;124m. Trace:\u001b[39m\u001b[38;5;130;01m\\n\u001b[39;00m\u001b[38;5;132;01m{3}\u001b[39;00m\u001b[38;5;130;01m\\n\u001b[39;00m\u001b[38;5;124m\"\u001b[39m\u001b[38;5;241m.\u001b[39m\n\u001b[1;32m    332\u001b[0m         \u001b[38;5;28mformat\u001b[39m(target_id, \u001b[38;5;124m\"\u001b[39m\u001b[38;5;124m.\u001b[39m\u001b[38;5;124m\"\u001b[39m, name, value))\n",
      "\u001b[0;31mPy4JJavaError\u001b[0m: An error occurred while calling o111.loadClass.\n: java.lang.ClassNotFoundException: org.graphframes.GraphFramePythonAPI\n\tat java.base/java.net.URLClassLoader.findClass(URLClassLoader.java:445)\n\tat java.base/java.lang.ClassLoader.loadClass(ClassLoader.java:592)\n\tat java.base/java.lang.ClassLoader.loadClass(ClassLoader.java:525)\n\tat java.base/jdk.internal.reflect.NativeMethodAccessorImpl.invoke0(Native Method)\n\tat java.base/jdk.internal.reflect.NativeMethodAccessorImpl.invoke(NativeMethodAccessorImpl.java:77)\n\tat java.base/jdk.internal.reflect.DelegatingMethodAccessorImpl.invoke(DelegatingMethodAccessorImpl.java:43)\n\tat java.base/java.lang.reflect.Method.invoke(Method.java:568)\n\tat py4j.reflection.MethodInvoker.invoke(MethodInvoker.java:244)\n\tat py4j.reflection.ReflectionEngine.invoke(ReflectionEngine.java:374)\n\tat py4j.Gateway.invoke(Gateway.java:282)\n\tat py4j.commands.AbstractCommand.invokeMethod(AbstractCommand.java:132)\n\tat py4j.commands.CallCommand.execute(CallCommand.java:79)\n\tat py4j.ClientServerConnection.waitForCommands(ClientServerConnection.java:182)\n\tat py4j.ClientServerConnection.run(ClientServerConnection.java:106)\n\tat java.base/java.lang.Thread.run(Thread.java:833)\n"
     ]
    }
   ],
   "source": [
    "# Step 5: Graph Construction and Analysis\n",
    "vertices_df = df_cleaned.select(col(\"Entry\").alias(\"id\")).distinct()\n",
    "\n",
    "# Create GraphFrame\n",
    "protein_graph = GraphFrame(vertices_df, edges_df)\n",
    "\n",
    "# Graph Analysis - Node Degrees\n",
    "degrees = protein_graph.degrees\n",
    "print(\"Node degrees:\")\n",
    "degrees.show(5)\n",
    "\n",
    "# Graph Analysis - Clustering (Connected Components)\n",
    "clusters = protein_graph.connectedComponents()\n",
    "print(\"Protein clusters (connected components):\")\n",
    "clusters.show(5)\n",
    "\n",
    "# Centrality - PageRank\n",
    "pagerank = protein_graph.pageRank(resetProbability=0.15, maxIter=10)\n",
    "print(\"PageRank results:\")\n",
    "pagerank.vertices.show(5)"
   ]
  },
  {
   "cell_type": "code",
   "execution_count": 17,
   "id": "bc654422-fef7-4a4b-a5c6-29db9d21a743",
   "metadata": {},
   "outputs": [
    {
     "ename": "AnalysisException",
     "evalue": "[UNRESOLVED_COLUMN.WITH_SUGGESTION] A column or function parameter with name `Protein1` cannot be resolved. Did you mean one of the following? [`UnionSize`, `a`.`Entry`, `b`.`Entry`, `a`.`InterPro`, `b`.`InterPro`].;\n'RepartitionByExpression ['Protein1], 100\n+- Filter ((JaccardSimilarity#220 >= 0.2) AND (IntersectionSize#179 >= 2))\n   +- Project [Entry#17, Entry Name#18, Protein names#19, Gene Names#20, Organism#21, Sequence#22, EC number#23, InterPro#24, InterPro_domains#96, Entry#151, Entry Name#152, Protein names#153, Gene Names#154, Organism#155, Sequence#156, EC number#157, InterPro#158, InterPro_domains#159, IntersectionSize#179, UnionSize#199, (cast(IntersectionSize#179 as double) / cast(UnionSize#199 as double)) AS JaccardSimilarity#220]\n      +- Project [Entry#17, Entry Name#18, Protein names#19, Gene Names#20, Organism#21, Sequence#22, EC number#23, InterPro#24, InterPro_domains#96, Entry#151, Entry Name#152, Protein names#153, Gene Names#154, Organism#155, Sequence#156, EC number#157, InterPro#158, InterPro_domains#159, IntersectionSize#179, size(array_union(InterPro_domains#96, InterPro_domains#159), true) AS UnionSize#199]\n         +- Project [Entry#17, Entry Name#18, Protein names#19, Gene Names#20, Organism#21, Sequence#22, EC number#23, InterPro#24, InterPro_domains#96, Entry#151, Entry Name#152, Protein names#153, Gene Names#154, Organism#155, Sequence#156, EC number#157, InterPro#158, InterPro_domains#159, size(array_intersect(InterPro_domains#96, InterPro_domains#159), true) AS IntersectionSize#179]\n            +- Filter (Entry#17 < Entry#151)\n               +- Join Cross\n                  :- SubqueryAlias a\n                  :  +- Project [Entry#17, Entry Name#18, Protein names#19, Gene Names#20, Organism#21, Sequence#22, EC number#23, InterPro#24, split(InterPro#24, ;, -1) AS InterPro_domains#96]\n                  :     +- Filter atleastnnonnulls(2, Entry#17, InterPro#24)\n                  :        +- Relation [Entry#17,Entry Name#18,Protein names#19,Gene Names#20,Organism#21,Sequence#22,EC number#23,InterPro#24] csv\n                  +- SubqueryAlias b\n                     +- Project [Entry#151, Entry Name#152, Protein names#153, Gene Names#154, Organism#155, Sequence#156, EC number#157, InterPro#158, split(InterPro#158, ;, -1) AS InterPro_domains#159]\n                        +- Filter atleastnnonnulls(2, Entry#151, InterPro#158)\n                           +- Relation [Entry#151,Entry Name#152,Protein names#153,Gene Names#154,Organism#155,Sequence#156,EC number#157,InterPro#158] csv\n",
     "output_type": "error",
     "traceback": [
      "\u001b[0;31m---------------------------------------------------------------------------\u001b[0m",
      "\u001b[0;31mAnalysisException\u001b[0m                         Traceback (most recent call last)",
      "Cell \u001b[0;32mIn[17], line 3\u001b[0m\n\u001b[1;32m      1\u001b[0m \u001b[38;5;66;03m# Step 6: Optimization and Performance Tuning\u001b[39;00m\n\u001b[1;32m      2\u001b[0m \u001b[38;5;66;03m# Partition data to optimize for larger datasets\u001b[39;00m\n\u001b[0;32m----> 3\u001b[0m filtered_pairs \u001b[38;5;241m=\u001b[39m \u001b[43mfiltered_pairs\u001b[49m\u001b[38;5;241;43m.\u001b[39;49m\u001b[43mrepartition\u001b[49m\u001b[43m(\u001b[49m\u001b[38;5;241;43m100\u001b[39;49m\u001b[43m,\u001b[49m\u001b[43m \u001b[49m\u001b[43mcol\u001b[49m\u001b[43m(\u001b[49m\u001b[38;5;124;43m\"\u001b[39;49m\u001b[38;5;124;43mProtein1\u001b[39;49m\u001b[38;5;124;43m\"\u001b[39;49m\u001b[43m)\u001b[49m\u001b[43m)\u001b[49m\n\u001b[1;32m      4\u001b[0m filtered_pairs\u001b[38;5;241m.\u001b[39mcache()\n",
      "File \u001b[0;32m/usr/local/spark/python/pyspark/sql/dataframe.py:1745\u001b[0m, in \u001b[0;36mDataFrame.repartition\u001b[0;34m(self, numPartitions, *cols)\u001b[0m\n\u001b[1;32m   1742\u001b[0m         \u001b[38;5;28;01mreturn\u001b[39;00m DataFrame(\u001b[38;5;28mself\u001b[39m\u001b[38;5;241m.\u001b[39m_jdf\u001b[38;5;241m.\u001b[39mrepartition(numPartitions), \u001b[38;5;28mself\u001b[39m\u001b[38;5;241m.\u001b[39msparkSession)\n\u001b[1;32m   1743\u001b[0m     \u001b[38;5;28;01melse\u001b[39;00m:\n\u001b[1;32m   1744\u001b[0m         \u001b[38;5;28;01mreturn\u001b[39;00m DataFrame(\n\u001b[0;32m-> 1745\u001b[0m             \u001b[38;5;28;43mself\u001b[39;49m\u001b[38;5;241;43m.\u001b[39;49m\u001b[43m_jdf\u001b[49m\u001b[38;5;241;43m.\u001b[39;49m\u001b[43mrepartition\u001b[49m\u001b[43m(\u001b[49m\u001b[43mnumPartitions\u001b[49m\u001b[43m,\u001b[49m\u001b[43m \u001b[49m\u001b[38;5;28;43mself\u001b[39;49m\u001b[38;5;241;43m.\u001b[39;49m\u001b[43m_jcols\u001b[49m\u001b[43m(\u001b[49m\u001b[38;5;241;43m*\u001b[39;49m\u001b[43mcols\u001b[49m\u001b[43m)\u001b[49m\u001b[43m)\u001b[49m,\n\u001b[1;32m   1746\u001b[0m             \u001b[38;5;28mself\u001b[39m\u001b[38;5;241m.\u001b[39msparkSession,\n\u001b[1;32m   1747\u001b[0m         )\n\u001b[1;32m   1748\u001b[0m \u001b[38;5;28;01melif\u001b[39;00m \u001b[38;5;28misinstance\u001b[39m(numPartitions, (\u001b[38;5;28mstr\u001b[39m, Column)):\n\u001b[1;32m   1749\u001b[0m     cols \u001b[38;5;241m=\u001b[39m (numPartitions,) \u001b[38;5;241m+\u001b[39m cols\n",
      "File \u001b[0;32m/usr/local/spark/python/lib/py4j-0.10.9.7-src.zip/py4j/java_gateway.py:1322\u001b[0m, in \u001b[0;36mJavaMember.__call__\u001b[0;34m(self, *args)\u001b[0m\n\u001b[1;32m   1316\u001b[0m command \u001b[38;5;241m=\u001b[39m proto\u001b[38;5;241m.\u001b[39mCALL_COMMAND_NAME \u001b[38;5;241m+\u001b[39m\\\n\u001b[1;32m   1317\u001b[0m     \u001b[38;5;28mself\u001b[39m\u001b[38;5;241m.\u001b[39mcommand_header \u001b[38;5;241m+\u001b[39m\\\n\u001b[1;32m   1318\u001b[0m     args_command \u001b[38;5;241m+\u001b[39m\\\n\u001b[1;32m   1319\u001b[0m     proto\u001b[38;5;241m.\u001b[39mEND_COMMAND_PART\n\u001b[1;32m   1321\u001b[0m answer \u001b[38;5;241m=\u001b[39m \u001b[38;5;28mself\u001b[39m\u001b[38;5;241m.\u001b[39mgateway_client\u001b[38;5;241m.\u001b[39msend_command(command)\n\u001b[0;32m-> 1322\u001b[0m return_value \u001b[38;5;241m=\u001b[39m \u001b[43mget_return_value\u001b[49m\u001b[43m(\u001b[49m\n\u001b[1;32m   1323\u001b[0m \u001b[43m    \u001b[49m\u001b[43manswer\u001b[49m\u001b[43m,\u001b[49m\u001b[43m \u001b[49m\u001b[38;5;28;43mself\u001b[39;49m\u001b[38;5;241;43m.\u001b[39;49m\u001b[43mgateway_client\u001b[49m\u001b[43m,\u001b[49m\u001b[43m \u001b[49m\u001b[38;5;28;43mself\u001b[39;49m\u001b[38;5;241;43m.\u001b[39;49m\u001b[43mtarget_id\u001b[49m\u001b[43m,\u001b[49m\u001b[43m \u001b[49m\u001b[38;5;28;43mself\u001b[39;49m\u001b[38;5;241;43m.\u001b[39;49m\u001b[43mname\u001b[49m\u001b[43m)\u001b[49m\n\u001b[1;32m   1325\u001b[0m \u001b[38;5;28;01mfor\u001b[39;00m temp_arg \u001b[38;5;129;01min\u001b[39;00m temp_args:\n\u001b[1;32m   1326\u001b[0m     \u001b[38;5;28;01mif\u001b[39;00m \u001b[38;5;28mhasattr\u001b[39m(temp_arg, \u001b[38;5;124m\"\u001b[39m\u001b[38;5;124m_detach\u001b[39m\u001b[38;5;124m\"\u001b[39m):\n",
      "File \u001b[0;32m/usr/local/spark/python/pyspark/errors/exceptions/captured.py:185\u001b[0m, in \u001b[0;36mcapture_sql_exception.<locals>.deco\u001b[0;34m(*a, **kw)\u001b[0m\n\u001b[1;32m    181\u001b[0m converted \u001b[38;5;241m=\u001b[39m convert_exception(e\u001b[38;5;241m.\u001b[39mjava_exception)\n\u001b[1;32m    182\u001b[0m \u001b[38;5;28;01mif\u001b[39;00m \u001b[38;5;129;01mnot\u001b[39;00m \u001b[38;5;28misinstance\u001b[39m(converted, UnknownException):\n\u001b[1;32m    183\u001b[0m     \u001b[38;5;66;03m# Hide where the exception came from that shows a non-Pythonic\u001b[39;00m\n\u001b[1;32m    184\u001b[0m     \u001b[38;5;66;03m# JVM exception message.\u001b[39;00m\n\u001b[0;32m--> 185\u001b[0m     \u001b[38;5;28;01mraise\u001b[39;00m converted \u001b[38;5;28;01mfrom\u001b[39;00m \u001b[38;5;28;01mNone\u001b[39;00m\n\u001b[1;32m    186\u001b[0m \u001b[38;5;28;01melse\u001b[39;00m:\n\u001b[1;32m    187\u001b[0m     \u001b[38;5;28;01mraise\u001b[39;00m\n",
      "\u001b[0;31mAnalysisException\u001b[0m: [UNRESOLVED_COLUMN.WITH_SUGGESTION] A column or function parameter with name `Protein1` cannot be resolved. Did you mean one of the following? [`UnionSize`, `a`.`Entry`, `b`.`Entry`, `a`.`InterPro`, `b`.`InterPro`].;\n'RepartitionByExpression ['Protein1], 100\n+- Filter ((JaccardSimilarity#220 >= 0.2) AND (IntersectionSize#179 >= 2))\n   +- Project [Entry#17, Entry Name#18, Protein names#19, Gene Names#20, Organism#21, Sequence#22, EC number#23, InterPro#24, InterPro_domains#96, Entry#151, Entry Name#152, Protein names#153, Gene Names#154, Organism#155, Sequence#156, EC number#157, InterPro#158, InterPro_domains#159, IntersectionSize#179, UnionSize#199, (cast(IntersectionSize#179 as double) / cast(UnionSize#199 as double)) AS JaccardSimilarity#220]\n      +- Project [Entry#17, Entry Name#18, Protein names#19, Gene Names#20, Organism#21, Sequence#22, EC number#23, InterPro#24, InterPro_domains#96, Entry#151, Entry Name#152, Protein names#153, Gene Names#154, Organism#155, Sequence#156, EC number#157, InterPro#158, InterPro_domains#159, IntersectionSize#179, size(array_union(InterPro_domains#96, InterPro_domains#159), true) AS UnionSize#199]\n         +- Project [Entry#17, Entry Name#18, Protein names#19, Gene Names#20, Organism#21, Sequence#22, EC number#23, InterPro#24, InterPro_domains#96, Entry#151, Entry Name#152, Protein names#153, Gene Names#154, Organism#155, Sequence#156, EC number#157, InterPro#158, InterPro_domains#159, size(array_intersect(InterPro_domains#96, InterPro_domains#159), true) AS IntersectionSize#179]\n            +- Filter (Entry#17 < Entry#151)\n               +- Join Cross\n                  :- SubqueryAlias a\n                  :  +- Project [Entry#17, Entry Name#18, Protein names#19, Gene Names#20, Organism#21, Sequence#22, EC number#23, InterPro#24, split(InterPro#24, ;, -1) AS InterPro_domains#96]\n                  :     +- Filter atleastnnonnulls(2, Entry#17, InterPro#24)\n                  :        +- Relation [Entry#17,Entry Name#18,Protein names#19,Gene Names#20,Organism#21,Sequence#22,EC number#23,InterPro#24] csv\n                  +- SubqueryAlias b\n                     +- Project [Entry#151, Entry Name#152, Protein names#153, Gene Names#154, Organism#155, Sequence#156, EC number#157, InterPro#158, split(InterPro#158, ;, -1) AS InterPro_domains#159]\n                        +- Filter atleastnnonnulls(2, Entry#151, InterPro#158)\n                           +- Relation [Entry#151,Entry Name#152,Protein names#153,Gene Names#154,Organism#155,Sequence#156,EC number#157,InterPro#158] csv\n"
     ]
    }
   ],
   "source": [
    "# Step 6: Optimization and Performance Tuning\n",
    "# Partition data to optimize for larger datasets\n",
    "filtered_pairs = filtered_pairs.repartition(100, col(\"Protein1\"))\n",
    "filtered_pairs.cache()"
   ]
  },
  {
   "cell_type": "code",
   "execution_count": 18,
   "id": "c0f20e7a-d10b-4b3c-b210-7142257e1d90",
   "metadata": {},
   "outputs": [
    {
     "ename": "NameError",
     "evalue": "name 'protein_graph' is not defined",
     "output_type": "error",
     "traceback": [
      "\u001b[0;31m---------------------------------------------------------------------------\u001b[0m",
      "\u001b[0;31mNameError\u001b[0m                                 Traceback (most recent call last)",
      "Cell \u001b[0;32mIn[18], line 3\u001b[0m\n\u001b[1;32m      1\u001b[0m \u001b[38;5;66;03m# Step 7: Pre-Visualization Preparation\u001b[39;00m\n\u001b[1;32m      2\u001b[0m \u001b[38;5;66;03m# Sample subgraph for visualization (e.g., proteins with degree > 10)\u001b[39;00m\n\u001b[0;32m----> 3\u001b[0m sampled_graph \u001b[38;5;241m=\u001b[39m \u001b[43mprotein_graph\u001b[49m\u001b[38;5;241m.\u001b[39mfilter(\u001b[38;5;124m\"\u001b[39m\u001b[38;5;124mdegree > 10\u001b[39m\u001b[38;5;124m\"\u001b[39m)\n",
      "\u001b[0;31mNameError\u001b[0m: name 'protein_graph' is not defined"
     ]
    }
   ],
   "source": [
    "# Step 7: Pre-Visualization Preparation\n",
    "# Sample subgraph for visualization (e.g., proteins with degree > 10)\n",
    "sampled_graph = protein_graph.filter(\"degree > 10\")"
   ]
  },
  {
   "cell_type": "code",
   "execution_count": null,
   "id": "3d304bcd-f717-4f83-acaf-cbd33f9bfa12",
   "metadata": {},
   "outputs": [],
   "source": [
    "# Step 8: Save Results\n",
    "# Save graph edges for further use\n",
    "output_edges_path = \"output/graph_edges.csv\"\n",
    "edges_df.write.csv(output_edges_path, header=True)\n",
    "\n",
    "# Save node degrees\n",
    "output_degrees_path = \"output/node_degrees.csv\"\n",
    "degrees.write.csv(output_degrees_path, header=True)\n",
    "\n",
    "# Save clusters\n",
    "output_clusters_path = \"output/protein_clusters.csv\"\n",
    "clusters.write.csv(output_clusters_path, header=True)\n",
    "\n",
    "print(f\"Graph edges saved to {output_edges_path}\")\n",
    "print(f\"Node degrees saved to {output_degrees_path}\")\n",
    "print(f\"Protein clusters saved to {output_clusters_path}\")"
   ]
  },
  {
   "cell_type": "code",
   "execution_count": null,
   "id": "364ebde3-b46c-46ef-a3c2-7d403cf7eaec",
   "metadata": {},
   "outputs": [],
   "source": [
    "# Step 9: Validation Checks\n",
    "# Check for duplicate edges\n",
    "duplicate_edges = filtered_pairs.groupBy(\"Protein1\", \"Protein2\").count().filter(col(\"count\") > 1)\n",
    "print(\"Duplicate edges:\")\n",
    "duplicate_edges.show()\n",
    "\n",
    "# Check for isolated nodes\n",
    "isolated_nodes = vertices_df.join(degrees, vertices_df.id == degrees.id, \"left_anti\")\n",
    "print(\"Isolated nodes (no edges):\")\n",
    "isolated_nodes.show()\n",
    "\n",
    "# Stop Spark Session\n",
    "spark.stop()"
   ]
  },
  {
   "cell_type": "code",
   "execution_count": null,
   "id": "d499d47b-2cc9-45af-afdb-247915406860",
   "metadata": {},
   "outputs": [],
   "source": []
  }
 ],
 "metadata": {
  "kernelspec": {
   "display_name": "Python 3 (ipykernel)",
   "language": "python",
   "name": "python3"
  },
  "language_info": {
   "codemirror_mode": {
    "name": "ipython",
    "version": 3
   },
   "file_extension": ".py",
   "mimetype": "text/x-python",
   "name": "python",
   "nbconvert_exporter": "python",
   "pygments_lexer": "ipython3",
   "version": "3.11.6"
  }
 },
 "nbformat": 4,
 "nbformat_minor": 5
}
